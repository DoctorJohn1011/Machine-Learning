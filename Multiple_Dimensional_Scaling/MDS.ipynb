{
 "cells": [
  {
   "cell_type": "code",
   "execution_count": 1,
   "metadata": {
    "collapsed": true
   },
   "outputs": [],
   "source": [
    "import numpy as np\n",
    "from numpy.linalg import *\n",
    "import scipy.io as sio\n",
    "import matplotlib.pyplot as plt"
   ]
  },
  {
   "cell_type": "code",
   "execution_count": 2,
   "metadata": {},
   "outputs": [],
   "source": [
    "def distance(x):\n",
    "    # dist is the square of distance\n",
    "    M,D = x.shape\n",
    "    dist = np.zeros((M,M))\n",
    "    for i in range(M):\n",
    "        dist[:,i] = ((x - x[i,:])**2).sum(1)\n",
    "    return dist"
   ]
  },
  {
   "cell_type": "code",
   "execution_count": 3,
   "metadata": {
    "collapsed": true
   },
   "outputs": [],
   "source": [
    "def MDS(x,dim=0):\n",
    "    M,D = x.shape\n",
    "    if dim==0:\n",
    "        dim = D\n",
    "    dist = distance(x)\n",
    "    dist_id = dist.mean(1)\n",
    "    dist_dj = dist.mean(0)\n",
    "    dist_dd = dist.sum()/(M**2)\n",
    "    B = np.zeros_like(dist)\n",
    "    B = (dist - dist_id) - dist_dj + dist_dd\n",
    "    B = -0.5 * B\n",
    "    U,S,V = svd(B)\n",
    "    S = np.diag(S[:dim])\n",
    "    U = U[:dim,:]\n",
    "    V = V[:dim,:]\n",
    "    ZU = np.dot(U.T,S)\n",
    "    ZV = np.dot(V.T,S)\n",
    "    return ZU,ZV"
   ]
  },
  {
   "cell_type": "code",
   "execution_count": 4,
   "metadata": {
    "collapsed": true
   },
   "outputs": [],
   "source": [
    "data_path = \"E://yuwoliang/three set/SpectralClassification/No removal of continuous spectrum/\"\n",
    "\n",
    "data=sio.loadmat( data_path + \"SpectralClassificationTrain.mat\" ) \n",
    "train_x = data['train_x']\n",
    "train_y = data['train_y'][:,0]\n",
    "\n",
    "data=sio.loadmat( data_path + \"SpectralClassificationTest.mat\" ) \n",
    "test_x = data['test_x']\n",
    "test_y = data['test_y'][:,0]\n",
    "\n",
    "del data"
   ]
  },
  {
   "cell_type": "code",
   "execution_count": 5,
   "metadata": {
    "scrolled": false
   },
   "outputs": [],
   "source": [
    "ZU,ZV = MDS(train_x,2)"
   ]
  },
  {
   "cell_type": "code",
   "execution_count": 6,
   "metadata": {},
   "outputs": [
    {
     "data": {
      "image/png": "[encoded data removed]",
      "text/plain": [
       "<matplotlib.figure.Figure at 0x8d600b8>"
      ]
     },
     "metadata": {},
     "output_type": "display_data"
    }
   ],
   "source": [
    "fig = plt.figure()\n",
    "ax = fig.add_subplot(1,2,1)\n",
    "ax.scatter( ZU[:,0].reshape(-1),ZU[:,1].reshape(-1) )\n",
    "ax = fig.add_subplot(1,2,2)\n",
    "ax.scatter( ZV[:,0].reshape(-1),ZV[:,1].reshape(-1) )\n",
    "plt.show()"
   ]
  },
  {
   "cell_type": "code",
   "execution_count": null,
   "metadata": {
    "collapsed": true
   },
   "outputs": [],
   "source": []
  }
 ],
 "metadata": {
  "kernelspec": {
   "display_name": "Python 3",
   "language": "python",
   "name": "python3"
  },
  "language_info": {
   "codemirror_mode": {
    "name": "ipython",
    "version": 3
   },
   "file_extension": ".py",
   "mimetype": "text/x-python",
   "name": "python",
   "nbconvert_exporter": "python",
   "pygments_lexer": "ipython3",
   "version": "3.6.1"
  }
 },
 "nbformat": 4,
 "nbformat_minor": 2
}
