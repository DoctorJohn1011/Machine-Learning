{
 "cells": [
  {
   "cell_type": "code",
   "execution_count": 67,
   "metadata": {
    "collapsed": true
   },
   "outputs": [],
   "source": [
    "import scipy.io as sio  \n",
    "import matplotlib.pyplot as plt  \n",
    "import numpy as np \n",
    "from numpy.linalg import *\n",
    "import pandas as pd"
   ]
  },
  {
   "cell_type": "code",
   "execution_count": 68,
   "metadata": {
    "collapsed": true
   },
   "outputs": [],
   "source": [
    "def LR_tr( x , y , lamb ):\n",
    "    [M,D] = x.shape\n",
    "    x = np.column_stack( ((np.ones(M)).T , x) )\n",
    "    w = np.dot(inv( np.dot(x.T,x) + lamb*np.eye(D+1) ) , np.dot(x.T,y))\n",
    "    return w"
   ]
  },
  {
   "cell_type": "code",
   "execution_count": 69,
   "metadata": {
    "collapsed": true
   },
   "outputs": [],
   "source": [
    "def LR_te( x , y, w ):\n",
    "    [M,D] = x.shape\n",
    "    x = np.column_stack( ((np.ones(M)).T , x) )\n",
    "    f = np.dot( x , w.T )\n",
    "    er = f - y\n",
    "    MSE =  ( er**2 ).mean()\n",
    "    MAE = abs( er ).mean()\n",
    "    SD = np.sqrt((( er-er.mean())**2).mean())\n",
    "    t = np.rint(f)\n",
    "    acc = np.equal(t,y).mean() * 100\n",
    "    text = \"The Linear Regression's accuracy is %.2f%%.\" %(acc)\n",
    "    print(text)\n",
    "    obj = pd.Series( [MSE,MAE,SD],index=['MSE','MAE','SD'] )\n",
    "    print(obj)\n",
    "    return f"
   ]
  },
  {
   "cell_type": "code",
   "execution_count": 70,
   "metadata": {
    "collapsed": true
   },
   "outputs": [],
   "source": [
    "data_path = \"E://yuwoliang/three set/SpectralClassification/No removal of continuous spectrum/\"\n",
    "\n",
    "data=sio.loadmat( data_path + \"SpectralClassificationTrain.mat\" ) \n",
    "train_x = data['train_x']\n",
    "train_y = data['train_y'][:,0]\n",
    "\n",
    "data=sio.loadmat( data_path + \"SpectralClassificationTest.mat\" ) \n",
    "test_x = data['test_x']\n",
    "test_y = data['test_y'][:,0]\n",
    "\n",
    "del data"
   ]
  },
  {
   "cell_type": "code",
   "execution_count": 71,
   "metadata": {},
   "outputs": [
    {
     "name": "stdout",
     "output_type": "stream",
     "text": [
      "The Linear Regression's accuracy is 82.50%.\n",
      "MSE    0.264380\n",
      "MAE    0.337140\n",
      "SD     0.495198\n",
      "dtype: float64\n"
     ]
    }
   ],
   "source": [
    "w = LR_tr( train_x, train_y, 0.0001)\n",
    "t = LR_te( test_x , test_y , w )\n"
   ]
  },
  {
   "cell_type": "code",
   "execution_count": null,
   "metadata": {
    "collapsed": true
   },
   "outputs": [],
   "source": []
  }
 ],
 "metadata": {
  "kernelspec": {
   "display_name": "Python 3",
   "language": "python",
   "name": "python3"
  },
  "language_info": {
   "codemirror_mode": {
    "name": "ipython",
    "version": 3
   },
   "file_extension": ".py",
   "mimetype": "text/x-python",
   "name": "python",
   "nbconvert_exporter": "python",
   "pygments_lexer": "ipython3",
   "version": "3.6.1"
  }
 },
 "nbformat": 4,
 "nbformat_minor": 2
}
