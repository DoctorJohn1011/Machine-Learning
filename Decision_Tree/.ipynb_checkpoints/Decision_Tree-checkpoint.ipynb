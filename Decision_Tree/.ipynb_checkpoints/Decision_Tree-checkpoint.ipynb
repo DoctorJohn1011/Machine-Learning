{
 "cells": [
  {
   "cell_type": "code",
   "execution_count": null,
   "metadata": {
    "collapsed": true
   },
   "outputs": [],
   "source": [
    "import scipy.io as sio  \n",
    "import matplotlib.pyplot as plt  \n",
    "import numpy as np \n",
    "from numpy.linalg import *\n",
    "import pandas as pd"
   ]
  },
  {
   "cell_type": "code",
   "execution_count": null,
   "metadata": {
    "collapsed": true
   },
   "outputs": [],
   "source": [
    "data_path = \"E://yuwoliang/three set/SpectralClassification/No removal of continuous spectrum/\"\n",
    "\n",
    "data=sio.loadmat( data_path + \"SpectralClassificationTrain.mat\" ) \n",
    "train_x = data['train_x']\n",
    "train_y = data['train_y'][:,0]\n",
    "\n",
    "data=sio.loadmat( data_path + \"SpectralClassificationTest.mat\" ) \n",
    "test_x = data['test_x']\n",
    "test_y = data['test_y'][:,0]\n",
    "\n",
    "del data"
   ]
  },
  {
   "cell_type": "code",
   "execution_count": null,
   "metadata": {
    "collapsed": true
   },
   "outputs": [],
   "source": []
  },
  {
   "cell_type": "code",
   "execution_count": null,
   "metadata": {
    "collapsed": true
   },
   "outputs": [],
   "source": []
  }
 ],
 "metadata": {
  "kernelspec": {
   "display_name": "Python 3",
   "language": "python",
   "name": "python3"
  },
  "language_info": {
   "codemirror_mode": {
    "name": "ipython",
    "version": 3
   },
   "file_extension": ".py",
   "mimetype": "text/x-python",
   "name": "python",
   "nbconvert_exporter": "python",
   "pygments_lexer": "ipython3",
   "version": "3.6.1"
  }
 },
 "nbformat": 4,
 "nbformat_minor": 2
}
