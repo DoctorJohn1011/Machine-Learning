{
 "cells": [
  {
   "cell_type": "code",
   "execution_count": 521,
   "metadata": {
    "collapsed": true
   },
   "outputs": [],
   "source": [
    "import scipy.io as sio  \n",
    "import matplotlib.pyplot as plt  \n",
    "import numpy as np \n",
    "from numpy.linalg import *\n",
    "import pandas as pd"
   ]
  },
  {
   "cell_type": "code",
   "execution_count": 805,
   "metadata": {},
   "outputs": [],
   "source": [
    "def decisionTreeTrain( x , y , mtype = 'C4.5' ,dtype = 'continuous' , quantile = 20 ):\n",
    "    data = {'Name':'NULL' , 'num':1,\n",
    "            'Left Child':0 , 'Left Name':'NULL',\n",
    "            'Right Child':0 , 'Right Name': 'NULL',\n",
    "            'bestattribute':-1 , 'bestvalue':-1 , 'Class' :0}\n",
    "    node = [data]\n",
    "    k = 1\n",
    "    if pd.isnull(x).any():\n",
    "        return node,k\n",
    "    if len(np.unique(y))==1:\n",
    "        node[0]['Name'] = 'The class is ' + str(np.unique(y)[0])\n",
    "        node[0]['Class'] = np.unique(y)[0]\n",
    "        return node,k\n",
    "    if x.size==0:\n",
    "        node[0]['Name'] = 'The class is ' + str(np.bincount( y ).argmax())\n",
    "        node[0]['Class'] = np.bincount( y ).argmax()\n",
    "        return node,k\n",
    "    if dtype == 'continuous':\n",
    "        [m,d] = x.shape\n",
    "        value = np.zeros(d)\n",
    "        if mtype == 'C4.5':\n",
    "            gain_ratio = np.zeros(d)\n",
    "            for i in range(d):\n",
    "                [gain_ratio[i],value[i]] = Gain_ratio( y , x[:,i] , dtype ,quantile )\n",
    "            bestattribute = gain_ratio.argmax()\n",
    "            bestvalue = value[bestattribute]\n",
    "            \n",
    "        elif mtype == 'ID3':\n",
    "            gain = np.zeros(d)\n",
    "            for i in range(d):\n",
    "                [gain[i],value[i] , no] = Gain( y , x[:,i] , dtype ,quantile )\n",
    "            bestattribute = gain.argmax()\n",
    "            bestvalue = value[bestattribute]\n",
    "            \n",
    "        elif mtype == 'CART':\n",
    "            gini_index = np.zeros(d)\n",
    "            for i in range(d):\n",
    "                [gini_index[i],value[i]] = Gini_index( y , x[:,i] , dtype ,quantile )\n",
    "            bestattribute = gini_index.argmin()\n",
    "            bestvalue = value[bestattribute]\n",
    "            \n",
    "        node[0]['bestattribute'] = bestattribute\n",
    "        node[0]['bestvalue'] = bestvalue\n",
    "        node[0]['Name'] = 'The bestattribute is ' + str(bestattribute) + ' and the bestvalue is ' + str(bestvalue)\n",
    "        print(node[0]['Name'])\n",
    "        \n",
    "        [node1,kl] = decisionTreeTrain( x[ (x[:,bestattribute]<=bestvalue) , : ] , y[ (x[:,bestattribute]<=bestvalue) ] , mtype , dtype , quantile)\n",
    "        node[0]['Left Name'] = node1[0]['Name']\n",
    "        node[0]['Left Child'] = 2\n",
    "        for i in range(len(node1)):\n",
    "            node1[i]['num'] = node1[i]['num'] + k\n",
    "            node1[i]['Left Child'] = node1[i]['Left Child'] + k\n",
    "            node1[i]['Right Child'] = node1[i]['Right Child'] + k\n",
    "        k = k + kl\n",
    "        node.extend(node1)\n",
    "        \n",
    "        [node2,kr] = decisionTreeTrain( x[ (x[:,bestattribute]>bestvalue) , : ] , y[ (x[:,bestattribute]>bestvalue) ] , mtype , dtype , quantile)\n",
    "        node[0]['Right Name'] = node2[0]['Name']\n",
    "        node[0]['Right Child'] = k+1\n",
    "        for i in range(len(node2)):\n",
    "            node2[i]['num'] = node2[i]['num'] + k\n",
    "            node2[i]['Left Child'] = node2[i]['Left Child'] + k\n",
    "            node2[i]['Right Child'] = node2[i]['Right Child'] + k\n",
    "        k = k + kr\n",
    "        node.extend(node2)\n",
    "    return node,k"
   ]
  },
  {
   "cell_type": "code",
   "execution_count": 806,
   "metadata": {
    "collapsed": true
   },
   "outputs": [],
   "source": [
    "def decisionTreeTest(node , x , y):\n",
    "    [m,d] = x.shape\n",
    "    t = np.zeros_like(y)\n",
    "    for i in range(m):\n",
    "        test = x[i,:]\n",
    "        j = 0\n",
    "        while(node[j]['Class']==0):\n",
    "            k = node[j]\n",
    "            if test[k['bestattribute']] <=k['bestvalue']:\n",
    "                j = k['Left Child']-1\n",
    "            else:\n",
    "                j = k['Right Child']-1\n",
    "        t[i] = node[j]['Class']\n",
    "    \n",
    "    acc = np.equal(t,y).mean() * 100\n",
    "    text = \"The Linear Regression's accuracy is %.2f%%.\" %(acc)\n",
    "    print(text)\n",
    "    return t"
   ]
  },
  {
   "cell_type": "code",
   "execution_count": 807,
   "metadata": {
    "collapsed": true
   },
   "outputs": [],
   "source": [
    "def divideset( D , a , subclass ):\n",
    "    if subclass.size==1:\n",
    "        subdataset = []\n",
    "        subdataset.append( D[a<=subclass] )\n",
    "        subdataset.append( D[a>subclass] )\n",
    "    else:\n",
    "        subdataset = []\n",
    "        subdataset.append(D[a<=subclass[0]])\n",
    "        for i in range(1,len(subclass)):\n",
    "            subdataset.append( D[ (a>subclass[i-1]) & (a<=subclass[i]) ])\n",
    "    \n",
    "    return subdataset"
   ]
  },
  {
   "cell_type": "code",
   "execution_count": 808,
   "metadata": {
    "collapsed": true
   },
   "outputs": [],
   "source": [
    "def Ent(D):\n",
    "    if len(D)==0:\n",
    "        return 0\n",
    "    num = np.bincount(D)\n",
    "    num = num[num>0]\n",
    "    num = num/num.sum()\n",
    "    ent = -(num * np.log2(num)).sum()\n",
    "    return ent"
   ]
  },
  {
   "cell_type": "code",
   "execution_count": 809,
   "metadata": {
    "collapsed": true
   },
   "outputs": [],
   "source": [
    "def Gain(D,a,dtype='continuous',quantile = 20):\n",
    "    ent = Ent(D);\n",
    "    m = len(D)\n",
    "    if dtype=='continuous':\n",
    "        section = np.arange(0.00,100.00,100.00/quantile)\n",
    "        subclass = np.unique(np.percentile(a,section))\n",
    "        gain = np.zeros(len(subclass))\n",
    "        for i in range(len(subclass)):\n",
    "            Dv = divideset(D,a,subclass[i])\n",
    "            gain[i] = ent - len(Dv[0])*Ent(Dv[0])/m - len(Dv[1])*Ent(Dv[1])/m\n",
    "        return gain.max(),subclass[gain.argmax()] , divideset(D,a,subclass[gain.argmax()])\n",
    "    \n",
    "    elif dtype=='discrete':\n",
    "        subclass = np.unique(a)\n",
    "        Dv = divdeset(D,a,subclass)\n",
    "        gain = np.zeros(len(subclass))\n",
    "        for i in range(len(subclass)):\n",
    "            gain[i] = len(Dv[i])*Ent(Dv[i])/m\n",
    "        return ent-gain.sum(),subclass , subD\n",
    "    \n",
    "    else:\n",
    "        print('The type you set does not exist.')\n",
    "        return null,null\n",
    "    "
   ]
  },
  {
   "cell_type": "code",
   "execution_count": 810,
   "metadata": {
    "collapsed": true
   },
   "outputs": [],
   "source": [
    "def Gain_ratio(D,a,dtype='continuous',quantile = 20):\n",
    "    [gain,bestvalue,Dv] = Gain(D,a,dtype,quantile)\n",
    "    m = len(D)\n",
    "    iv = np.zeros(len(Dv))\n",
    "    for i in range(len(Dv)):\n",
    "        iv[i] = (len(Dv[i])/m) * np.log2(len(Dv[i])/m)\n",
    "    gain_ration = gain/(-iv.sum())\n",
    "    return gain_ration , bestvalue\n"
   ]
  },
  {
   "cell_type": "code",
   "execution_count": 811,
   "metadata": {
    "collapsed": true
   },
   "outputs": [],
   "source": [
    "def Gini(D):\n",
    "    num = np.bincount(D)\n",
    "    num = num[num>0]\n",
    "    num = num/num.sum()\n",
    "    gini = 1 - (num**2).sum()\n",
    "    return gini\n"
   ]
  },
  {
   "cell_type": "code",
   "execution_count": 812,
   "metadata": {
    "collapsed": true
   },
   "outputs": [],
   "source": [
    "def Gini_index(D,a,dtype='continuous',quantile = 20):\n",
    "    m = len(D)\n",
    "    if dtype=='continuous':\n",
    "        section = np.arange(0.00,100.00,100.00/quantile)\n",
    "        subclass = np.unique(np.percentile(a,section))\n",
    "        gini_index = np.zeros(len(subclass))\n",
    "        for i in range(len(subclass)):\n",
    "            Dv = divideset(D,a,subclass[i])\n",
    "            gini_index[i] = len(Dv[0])*Gini(Dv[0])/m + len(Dv[1])*Gini(Dv[1])/m\n",
    "        return gini_index.min() , subclass[gini_index.argmin()]\n",
    "    \n",
    "    elif dtype=='discrete':\n",
    "        subclass = np.unique(a)\n",
    "        Dv = divideset(D,a,subclass)\n",
    "        gini_index = np.zeros(len(subclass))\n",
    "        for i in range(len(subclass)):\n",
    "            gini_index[i] = len(Dv[i])*Gini(Dv[i])/m\n",
    "        return gini_index.sum() , subclass\n",
    "    \n",
    "    else:\n",
    "        print('The type you set does not exist.')\n",
    "        return null , null\n"
   ]
  },
  {
   "cell_type": "code",
   "execution_count": 813,
   "metadata": {
    "collapsed": true
   },
   "outputs": [],
   "source": [
    "data_path = \"E://yuwoliang/three set/SpectralClassification/No removal of continuous spectrum/\"\n",
    "\n",
    "data=sio.loadmat( data_path + \"SpectralClassificationTrain.mat\" ) \n",
    "train_x = data['train_x']\n",
    "train_y = data['train_y'][:,0]\n",
    "\n",
    "data=sio.loadmat( data_path + \"SpectralClassificationTest.mat\" ) \n",
    "test_x = data['test_x']\n",
    "test_y = data['test_y'][:,0]\n",
    "\n",
    "del data"
   ]
  },
  {
   "cell_type": "code",
   "execution_count": 800,
   "metadata": {},
   "outputs": [
    {
     "name": "stdout",
     "output_type": "stream",
     "text": [
      "The bestattribute is 278 and the bestvalue is 0.0398812\n",
      "The bestattribute is 362 and the bestvalue is 0.021801\n",
      "The bestattribute is 10 and the bestvalue is 0.081867\n",
      "The bestattribute is 0 and the bestvalue is 0.01544\n",
      "The bestattribute is 328 and the bestvalue is 0.047291\n",
      "The bestattribute is 68 and the bestvalue is 0.052907\n",
      "The bestattribute is 162 and the bestvalue is 0.0570645\n",
      "The bestattribute is 236 and the bestvalue is 0.040832\n",
      "The bestattribute is 67 and the bestvalue is 0.0018921\n",
      "The bestattribute is 27 and the bestvalue is 0.0086117\n",
      "The bestattribute is 22 and the bestvalue is 0.02877745\n",
      "The bestattribute is 67 and the bestvalue is 0.0137858\n",
      "The bestattribute is 0 and the bestvalue is 0.02379\n",
      "The Linear Regression's accuracy is 81.00%.\n"
     ]
    }
   ],
   "source": [
    "[node,k] = decisionTreeTrain( train_x , train_y, mtype='C4.5' )\n",
    "t = decisionTreeTest(node , test_x , test_y  )"
   ]
  },
  {
   "cell_type": "code",
   "execution_count": 801,
   "metadata": {},
   "outputs": [
    {
     "name": "stdout",
     "output_type": "stream",
     "text": [
      "The bestattribute is 65 and the bestvalue is 0.0607039\n",
      "The bestattribute is 28 and the bestvalue is 0.0268082\n",
      "The bestattribute is 27 and the bestvalue is 0.00897044\n",
      "The bestattribute is 234 and the bestvalue is 0.039715\n",
      "The bestattribute is 67 and the bestvalue is 0.0018921\n",
      "The bestattribute is 67 and the bestvalue is 0.0138986\n",
      "The bestattribute is 0 and the bestvalue is 0.02379\n",
      "The bestattribute is 150 and the bestvalue is 0.0446376\n",
      "The bestattribute is 39 and the bestvalue is 0.0361248\n",
      "The bestattribute is 24 and the bestvalue is 0.028624\n",
      "The bestattribute is 1 and the bestvalue is 0.0353671\n",
      "The bestattribute is 52 and the bestvalue is 0.0762532\n",
      "The bestattribute is 10 and the bestvalue is 0.0829748\n",
      "The bestattribute is 2 and the bestvalue is 0.081887\n",
      "The Linear Regression's accuracy is 79.50%.\n"
     ]
    }
   ],
   "source": [
    "[node,k] = decisionTreeTrain( train_x , train_y, mtype='ID3' )\n",
    "t = decisionTreeTest(node , test_x , test_y  )"
   ]
  },
  {
   "cell_type": "code",
   "execution_count": 814,
   "metadata": {},
   "outputs": [
    {
     "name": "stdout",
     "output_type": "stream",
     "text": [
      "The bestattribute is 278 and the bestvalue is 0.0398812\n",
      "The bestattribute is 10 and the bestvalue is 0.083105\n",
      "The bestattribute is 0 and the bestvalue is 0.01544\n",
      "The bestattribute is 2 and the bestvalue is 0.081887\n",
      "The bestattribute is 328 and the bestvalue is 0.047291\n",
      "The bestattribute is 68 and the bestvalue is 0.052907\n",
      "The bestattribute is 162 and the bestvalue is 0.0570645\n",
      "The bestattribute is 45 and the bestvalue is 0.0071129\n",
      "The bestattribute is 238 and the bestvalue is 0.0379532\n",
      "The bestattribute is 22 and the bestvalue is 0.0287734\n",
      "The bestattribute is 0 and the bestvalue is 0.0088277\n",
      "The bestattribute is 67 and the bestvalue is 0.0137858\n",
      "The bestattribute is 0 and the bestvalue is 0.02379\n",
      "The Linear Regression's accuracy is 76.50%.\n"
     ]
    }
   ],
   "source": [
    "[node,k] = decisionTreeTrain( train_x , train_y, mtype='CART' )\n",
    "t = decisionTreeTest(node , test_x , test_y  )"
   ]
  },
  {
   "cell_type": "code",
   "execution_count": null,
   "metadata": {
    "collapsed": true
   },
   "outputs": [],
   "source": []
  }
 ],
 "metadata": {
  "kernelspec": {
   "display_name": "Python 3",
   "language": "python",
   "name": "python3"
  },
  "language_info": {
   "codemirror_mode": {
    "name": "ipython",
    "version": 3
   },
   "file_extension": ".py",
   "mimetype": "text/x-python",
   "name": "python",
   "nbconvert_exporter": "python",
   "pygments_lexer": "ipython3",
   "version": "3.6.1"
  }
 },
 "nbformat": 4,
 "nbformat_minor": 2
}
