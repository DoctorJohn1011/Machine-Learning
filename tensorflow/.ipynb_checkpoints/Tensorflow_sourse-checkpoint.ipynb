{
 "cells": [
  {
   "cell_type": "code",
   "execution_count": 15,
   "metadata": {
    "collapsed": true
   },
   "outputs": [],
   "source": [
    "import tensorflow as tf\n",
    "import numpy as np"
   ]
  },
  {
   "cell_type": "markdown",
   "metadata": {},
   "source": [
    "# Tnensorflow 5 例子"
   ]
  },
  {
   "cell_type": "code",
   "execution_count": 13,
   "metadata": {
    "collapsed": true
   },
   "outputs": [],
   "source": [
    "# creat data\n",
    "x_data = np.random.rand(100).astype(np.float32)\n",
    "y_data = x_data*0.1 + 0.3"
   ]
  },
  {
   "cell_type": "code",
   "execution_count": 18,
   "metadata": {},
   "outputs": [
    {
     "name": "stdout",
     "output_type": "stream",
     "text": [
      "0 [ 0.62215161] [ 0.0308352]\n",
      "20 [ 0.23239382] [ 0.23099613]\n",
      "40 [ 0.13364778] [ 0.28246272]\n",
      "60 [ 0.10855156] [ 0.29554293]\n",
      "80 [ 0.1021734] [ 0.29886723]\n",
      "100 [ 0.10055237] [ 0.29971212]\n",
      "120 [ 0.10014039] [ 0.29992685]\n",
      "140 [ 0.10003569] [ 0.29998142]\n",
      "160 [ 0.10000908] [ 0.29999527]\n",
      "180 [ 0.10000231] [ 0.29999882]\n",
      "200 [ 0.1000006] [ 0.29999971]\n"
     ]
    }
   ],
   "source": [
    "### creat tensorflow structure start ###\n",
    "Weights = tf.Variable( tf.random_uniform([1],-1.0,1.0) )\n",
    "biases = tf.Variable( tf.zeros([1]) )\n",
    "\n",
    "y = Weights*x_data + biases\n",
    "\n",
    "loss = tf.reduce_mean( tf.square(y-y_data) )\n",
    "optimizer = tf.train.GradientDescentOptimizer(0.5)\n",
    "train = optimizer.minimize(loss)\n",
    "\n",
    "init = tf.global_variables_initializer()\n",
    "### creat tensorflow structure start ###\n",
    "\n",
    "sess = tf.Session()\n",
    "sess.run(init)\n",
    "\n",
    "for step in range(201):\n",
    "    sess.run(train)\n",
    "    if step % 20 == 0:\n",
    "        print( step, sess.run(Weights), sess.run(biases) )"
   ]
  },
  {
   "cell_type": "markdown",
   "metadata": {},
   "source": [
    "# Tensorflow 6 Session"
   ]
  },
  {
   "cell_type": "code",
   "execution_count": 20,
   "metadata": {
    "collapsed": true
   },
   "outputs": [],
   "source": [
    "import tensorflow as tf"
   ]
  },
  {
   "cell_type": "code",
   "execution_count": 24,
   "metadata": {},
   "outputs": [
    {
     "name": "stdout",
     "output_type": "stream",
     "text": [
      "[[12]]\n",
      "[[12]]\n"
     ]
    }
   ],
   "source": [
    "matrix1 = tf.constant([[3,3]])\n",
    "matrix2 = tf.constant([[2],[2]])\n",
    "\n",
    "product = tf.matmul(matrix1, matrix2)    # matrix multiply np.dot(m1,m2)\n",
    "\n",
    "# method 1\n",
    "sess = tf.Session()\n",
    "result = sess.run(product)\n",
    "print(result)\n",
    "sess.close()\n",
    "\n",
    "# method 2\n",
    "with tf.Session() as sess:\n",
    "    result2 = sess.run(product)\n",
    "    print(result2)"
   ]
  },
  {
   "cell_type": "markdown",
   "metadata": {},
   "source": [
    "# Tensorflow 7 Variable"
   ]
  },
  {
   "cell_type": "code",
   "execution_count": 2,
   "metadata": {
    "collapsed": true
   },
   "outputs": [],
   "source": [
    "import tensorflow as tf"
   ]
  },
  {
   "cell_type": "code",
   "execution_count": 2,
   "metadata": {},
   "outputs": [
    {
     "name": "stdout",
     "output_type": "stream",
     "text": [
      "counter:0\n",
      "1\n",
      "2\n",
      "3\n"
     ]
    }
   ],
   "source": [
    "state = tf.Variable(0, name='counter')\n",
    "print(state.name)\n",
    "one = tf.constant(1)\n",
    "\n",
    "new_value = tf.add(state , one)\n",
    "update = tf.assign(state , new_value)\n",
    "\n",
    "init = tf.global_variables_initializer()  # must have if define variable\n",
    "\n",
    "with tf.Session() as sess:\n",
    "    sess.run(init)\n",
    "    for _ in range(3):\n",
    "        sess.run(update)\n",
    "        print(sess.run(state))"
   ]
  },
  {
   "cell_type": "markdown",
   "metadata": {},
   "source": [
    "# Tensorflow 8 Placeholder"
   ]
  },
  {
   "cell_type": "code",
   "execution_count": 8,
   "metadata": {
    "collapsed": true
   },
   "outputs": [],
   "source": [
    "import tensorflow as tf\n",
    "import numpy as np"
   ]
  },
  {
   "cell_type": "code",
   "execution_count": 26,
   "metadata": {},
   "outputs": [
    {
     "name": "stdout",
     "output_type": "stream",
     "text": [
      "[[ 14.   8.   4.]]\n"
     ]
    }
   ],
   "source": [
    "input1 = tf.placeholder(tf.float32)\n",
    "input2 = tf.placeholder(tf.float32, shape = (1,3))\n",
    "\n",
    "output = tf.multiply(input1 , input2)\n",
    "\n",
    "\n",
    "with tf.Session() as sess:\n",
    "    print(sess.run(output, feed_dict = {input1:[2.],input2:[[7.,4.,2.]]}))"
   ]
  },
  {
   "cell_type": "markdown",
   "metadata": {},
   "source": [
    "# Tensorflow 10 def add_layer"
   ]
  },
  {
   "cell_type": "code",
   "execution_count": 1,
   "metadata": {
    "collapsed": true
   },
   "outputs": [],
   "source": [
    "import tensorflow as tf"
   ]
  },
  {
   "cell_type": "code",
   "execution_count": 3,
   "metadata": {
    "collapsed": true
   },
   "outputs": [],
   "source": [
    " def add_layer(inputs, in_size, out_size, activation_funtion=None):\n",
    "        Weights = tf.Variable( tf.random_normal( [in_size,out_size] ) )\n",
    "        biases = tf.Variable( tf.zeros( [1,out_size] ) + 0.1 )\n",
    "        Wx_plus_b = tf.matmul( inputs,Weights ) + biases\n",
    "        if activation_funtion is None:\n",
    "            outputs = Wx_plus_b\n",
    "        else:\n",
    "            outputs = activation_funtion( Wx_plus_b )\n",
    "        return outputs"
   ]
  },
  {
   "cell_type": "markdown",
   "metadata": {},
   "source": [
    "# Tensorflow 11 build a neural network"
   ]
  },
  {
   "cell_type": "code",
   "execution_count": 1,
   "metadata": {
    "collapsed": true
   },
   "outputs": [],
   "source": [
    "import tensorflow as tf\n",
    "import numpy as np"
   ]
  },
  {
   "cell_type": "code",
   "execution_count": 2,
   "metadata": {
    "collapsed": true
   },
   "outputs": [],
   "source": [
    " def add_layer(inputs, in_size, out_size, activation_funtion=None):\n",
    "        Weights = tf.Variable( tf.random_normal( [in_size,out_size] ) )\n",
    "        biases = tf.Variable( tf.zeros( [1,out_size] ) + 0.1 )\n",
    "        Wx_plus_b = tf.matmul( inputs,Weights ) + biases\n",
    "        if activation_funtion is None:\n",
    "            outputs = Wx_plus_b\n",
    "        else:\n",
    "            outputs = activation_funtion( Wx_plus_b )\n",
    "        return outputs"
   ]
  },
  {
   "cell_type": "code",
   "execution_count": 14,
   "metadata": {
    "collapsed": true
   },
   "outputs": [],
   "source": [
    "x_data = np.linspace( -1,1,300 )[:,np.newaxis]\n",
    "noise = np.random.normal( 0,0.05,x_data.shape )\n",
    "y_data = np.square( x_data ) - 0.5 + noise"
   ]
  },
  {
   "cell_type": "code",
   "execution_count": 15,
   "metadata": {},
   "outputs": [
    {
     "name": "stdout",
     "output_type": "stream",
     "text": [
      "0.461601\n",
      "0.0120344\n",
      "0.00790422\n",
      "0.00604386\n",
      "0.0050218\n",
      "0.00450687\n",
      "0.00421083\n",
      "0.00398839\n",
      "0.00381866\n",
      "0.00365744\n",
      "0.00352286\n",
      "0.00343137\n",
      "0.00335766\n",
      "0.00329151\n",
      "0.00323591\n",
      "0.00319109\n",
      "0.00315392\n",
      "0.00312234\n",
      "0.00309026\n",
      "0.00305456\n"
     ]
    }
   ],
   "source": [
    "xs = tf.placeholder( tf.float32,[None,1] )\n",
    "ys = tf.placeholder( tf.float32,[None,1] )\n",
    "\n",
    "l1 = add_layer( xs,1,10,activation_funtion=tf.nn.relu )\n",
    "prediction = add_layer( l1,10,1 )\n",
    "\n",
    "loss = tf.reduce_mean( tf.reduce_sum( tf.square( ys - prediction ),reduction_indices=[1] ) )\n",
    "train_step = tf.train.GradientDescentOptimizer( 0.1 ).minimize( loss )\n",
    "\n",
    "init = tf.global_variables_initializer()\n",
    "\n",
    "sess = tf.Session()\n",
    "sess.run( init )\n",
    "\n",
    "for i in range(1000):\n",
    "    sess.run( train_step,feed_dict={xs:x_data,ys:y_data})\n",
    "    if i % 50 == 0:\n",
    "        print(sess.run( loss,feed_dict={xs:x_data,ys:y_data}))"
   ]
  },
  {
   "cell_type": "markdown",
   "metadata": {},
   "source": [
    "# Tensorflow 12 plot result"
   ]
  },
  {
   "cell_type": "code",
   "execution_count": 16,
   "metadata": {
    "collapsed": true
   },
   "outputs": [],
   "source": [
    "%matplotlib inline\n",
    "import matplotlib.pyplot as plt\n",
    "import tensorflow as tf\n",
    "import numpy as np"
   ]
  },
  {
   "cell_type": "code",
   "execution_count": 17,
   "metadata": {
    "collapsed": true
   },
   "outputs": [],
   "source": [
    "def add_layer(inputs, in_size, out_size, activation_funtion=None):\n",
    "        Weights = tf.Variable( tf.random_normal( [in_size,out_size] ) )\n",
    "        biases = tf.Variable( tf.zeros( [1,out_size] ) + 0.1 )\n",
    "        Wx_plus_b = tf.matmul( inputs,Weights ) + biases\n",
    "        if activation_funtion is None:\n",
    "            outputs = Wx_plus_b\n",
    "        else:\n",
    "            outputs = activation_funtion( Wx_plus_b )\n",
    "        return outputs"
   ]
  },
  {
   "cell_type": "code",
   "execution_count": 18,
   "metadata": {
    "collapsed": true
   },
   "outputs": [],
   "source": [
    "x_data = np.linspace( -1,1,300 )[:,np.newaxis]\n",
    "noise = np.random.normal( 0,0.05,x_data.shape )\n",
    "y_data = np.square( x_data ) - 0.5 + noise"
   ]
  },
  {
   "cell_type": "code",
   "execution_count": 20,
   "metadata": {},
   "outputs": [
    {
     "data": {
      "image/png": "[encoded data removed]",
      "text/plain": [
       "<matplotlib.figure.Figure at 0xd2c74a8>"
      ]
     },
     "metadata": {},
     "output_type": "display_data"
    }
   ],
   "source": [
    "xs = tf.placeholder( tf.float32,[None,1] )\n",
    "ys = tf.placeholder( tf.float32,[None,1] )\n",
    "\n",
    "l1 = add_layer( xs,1,10,activation_funtion=tf.nn.relu )\n",
    "prediction = add_layer( l1,10,1 )\n",
    "\n",
    "loss = tf.reduce_mean( tf.reduce_sum( tf.square( ys - prediction ),reduction_indices=[1] ) )\n",
    "train_step = tf.train.GradientDescentOptimizer( 0.1 ).minimize( loss )\n",
    "\n",
    "init = tf.global_variables_initializer()\n",
    "\n",
    "sess = tf.Session()\n",
    "sess.run( init )\n",
    "\n",
    "plt.ion()\n",
    "fig = plt.figure()\n",
    "ax = fig.add_subplot(1,1,1)\n",
    "ax.scatter( x_data,y_data )\n",
    "#plt.show()\n",
    "\n",
    "for i in range(1000):\n",
    "    # training\n",
    "    sess.run(train_step, feed_dict={xs: x_data, ys: y_data})\n",
    "    if i % 50 == 0:\n",
    "        # to visualize the result and improvement\n",
    "        try:\n",
    "            ax.lines.remove(lines[0])\n",
    "        except Exception:\n",
    "            pass\n",
    "        prediction_value = sess.run(prediction, feed_dict={xs: x_data})\n",
    "        # plot the prediction\n",
    "        lines = ax.plot(x_data, prediction_value, 'r-', lw=5)\n",
    "        plt.pause(0.1)"
   ]
  },
  {
   "cell_type": "markdown",
   "metadata": {},
   "source": [
    "# Tensorflow 13 optimizer"
   ]
  },
  {
   "cell_type": "code",
   "execution_count": 31,
   "metadata": {
    "collapsed": true
   },
   "outputs": [],
   "source": [
    "import tensorflow as tf\n",
    "import numpy as np"
   ]
  },
  {
   "cell_type": "code",
   "execution_count": null,
   "metadata": {
    "collapsed": true
   },
   "outputs": [],
   "source": [
    "tf.train.GradientDescentOptimizer()\n",
    "tf.train.MomentumOptimizer()\n",
    "tf.train.AdamOptimizer"
   ]
  },
  {
   "cell_type": "markdown",
   "metadata": {},
   "source": [
    "# Tensorflow 14 Tensorboard"
   ]
  },
  {
   "cell_type": "code",
   "execution_count": 1,
   "metadata": {
    "collapsed": true
   },
   "outputs": [],
   "source": [
    "import tensorflow as tf\n",
    "import numpy as np"
   ]
  },
  {
   "cell_type": "code",
   "execution_count": 2,
   "metadata": {
    "collapsed": true
   },
   "outputs": [],
   "source": [
    "def add_layer(inputs, in_size, out_size, n_layer, activation_funtion=None):\n",
    "    # add one more layer and return the output of this layer\n",
    "    layer_name = 'layer%s' % n_layer\n",
    "    with tf.name_scope(layer_name):\n",
    "        with tf.name_scope('weights'):\n",
    "            Weights = tf.Variable( tf.random_normal( [in_size,out_size] ),name='W' )\n",
    "            tf.summary.histogram(layer_name+'/weight',Weights)\n",
    "        with tf.name_scope('biases'):\n",
    "            biases = tf.Variable( tf.zeros( [1,out_size] ) + 0.1,name='b' )\n",
    "            tf.summary.histogram(layer_name+'/biases',biases)\n",
    "        with tf.name_scope('Wx_plus_b'):\n",
    "            Wx_plus_b = tf.matmul( inputs,Weights ) + biases\n",
    "        if activation_funtion is None:\n",
    "            outputs = Wx_plus_b\n",
    "        else:\n",
    "            outputs = activation_funtion( Wx_plus_b )\n",
    "        tf.summary.histogram(layer_name+'/outputs',outputs )\n",
    "        return outputs"
   ]
  },
  {
   "cell_type": "code",
   "execution_count": 3,
   "metadata": {
    "collapsed": true
   },
   "outputs": [],
   "source": [
    "x_data = np.linspace( -1,1,300 )[:,np.newaxis]\n",
    "noise = np.random.normal( 0,0.05,x_data.shape )\n",
    "y_data = np.square( x_data ) - 0.5 + noise"
   ]
  },
  {
   "cell_type": "code",
   "execution_count": 4,
   "metadata": {
    "collapsed": true
   },
   "outputs": [],
   "source": [
    "# define placeholder for inputs to network\n",
    "with tf.name_scope('inputs'):\n",
    "    xs = tf.placeholder( tf.float32,[None,1],name='x_input' )\n",
    "    ys = tf.placeholder( tf.float32,[None,1],name='y_input' )\n",
    "\n",
    "# add hidden layer\n",
    "\n",
    "l1 = add_layer( xs,1,10,n_layer=1,activation_funtion=tf.nn.relu )\n",
    "# add output layer\n",
    "prediction = add_layer( l1,10,1,n_layer=2 )\n",
    "\n",
    "# the error between prediction and real data\n",
    "with tf.name_scope( 'loss' ):\n",
    "    loss = tf.reduce_mean( tf.reduce_sum( tf.square( ys - prediction ),reduction_indices=[1] ) )\n",
    "    tf.summary.scalar( 'loss',loss )\n",
    "with tf.name_scope( 'train' ):\n",
    "    train_step = tf.train.GradientDescentOptimizer( 0.1 ).minimize( loss )\n",
    "\n",
    "sess = tf.Session()\n",
    "merged = tf.summary.merge_all()\n",
    "writer = tf.summary.FileWriter( \"logs/\",sess.graph )\n",
    "# important step\n",
    "sess.run( tf.global_variables_initializer() )\n",
    "\n",
    "for i in range(1000):\n",
    "    sess.run( train_step,feed_dict={xs:x_data,ys:y_data} )\n",
    "    if i % 50 == 0:\n",
    "        result = sess.run( merged,feed_dict={xs:x_data,ys:y_data} )\n",
    "        writer.add_summary( result,i )\n",
    "# Finally, using the tensorboard to draw the figure of the network\n",
    "# example: 'tensorboard --logdir='logs/'"
   ]
  },
  {
   "cell_type": "markdown",
   "metadata": {},
   "source": [
    "# Tensorflow 16 Classification"
   ]
  },
  {
   "cell_type": "code",
   "execution_count": 1,
   "metadata": {
    "collapsed": true
   },
   "outputs": [],
   "source": [
    "import tensorflow as tf\n",
    "from tensorflow.examples.tutorials.mnist import input_data\n",
    "import numpy as np"
   ]
  },
  {
   "cell_type": "code",
   "execution_count": 2,
   "metadata": {
    "collapsed": true
   },
   "outputs": [],
   "source": [
    "def add_layer(inputs, in_size, out_size, activation_funtion=None):\n",
    "    # add one more layer and return the output of this layer\n",
    "    Weights = tf.Variable( tf.random_normal( [in_size,out_size] ),name='W' )\n",
    "    biases = tf.Variable( tf.zeros( [1,out_size] ) + 0.1,name='b' )\n",
    "    Wx_plus_b = tf.matmul( inputs,Weights ) + biases\n",
    "    if activation_funtion is None:\n",
    "        outputs = Wx_plus_b\n",
    "    else:\n",
    "        outputs = activation_funtion( Wx_plus_b )\n",
    "    return outputs"
   ]
  },
  {
   "cell_type": "code",
   "execution_count": 7,
   "metadata": {
    "collapsed": true
   },
   "outputs": [],
   "source": [
    "def compute_accuracy(v_xs, v_ys):\n",
    "    global prediction\n",
    "    y_pre = sess.run(prediction,feed_dict={xs:v_xs})\n",
    "    correct_prediction = tf.equal(tf.argmax(y_pre,1),tf.argmax(v_ys,1))\n",
    "    accuracy = tf.reduce_mean(tf.cast(correct_prediction,tf.float32))\n",
    "    result = sess.run(accuracy,feed_dict={xs:v_xs , ys:v_ys})\n",
    "    return result"
   ]
  },
  {
   "cell_type": "code",
   "execution_count": 4,
   "metadata": {},
   "outputs": [
    {
     "name": "stdout",
     "output_type": "stream",
     "text": [
      "Extracting MNIST_data\\train-images-idx3-ubyte.gz\n",
      "Extracting MNIST_data\\train-labels-idx1-ubyte.gz\n",
      "Extracting MNIST_data\\t10k-images-idx3-ubyte.gz\n",
      "Extracting MNIST_data\\t10k-labels-idx1-ubyte.gz\n"
     ]
    }
   ],
   "source": [
    "mnist = input_data.read_data_sets('MNIST_data',one_hot=True)"
   ]
  },
  {
   "cell_type": "code",
   "execution_count": 8,
   "metadata": {},
   "outputs": [
    {
     "name": "stdout",
     "output_type": "stream",
     "text": [
      "0.138\n",
      "0.6479\n",
      "0.7471\n",
      "0.7894\n",
      "0.8068\n",
      "0.821\n",
      "0.8303\n",
      "0.8415\n",
      "0.846\n",
      "0.8495\n",
      "0.855\n",
      "0.8585\n",
      "0.8565\n",
      "0.8653\n",
      "0.8628\n",
      "0.8669\n",
      "0.8689\n",
      "0.8744\n",
      "0.8754\n",
      "0.8744\n"
     ]
    }
   ],
   "source": [
    "xs = tf.placeholder( tf.float32,[None,784] )\n",
    "ys = tf.placeholder( tf.float32,[None,10] )\n",
    "\n",
    "prediction = add_layer( xs,784,10,activation_funtion=tf.nn.softmax )\n",
    "\n",
    "cross_entropy = tf.reduce_mean(-tf.reduce_sum(ys*tf.log(prediction)\n",
    "                                              ,reduction_indices=[1]))\n",
    "train_step = tf.train.GradientDescentOptimizer(0.5).minimize(cross_entropy)\n",
    "\n",
    "sess = tf.Session()\n",
    "sess.run(tf.global_variables_initializer())\n",
    "\n",
    "for i in range(1000):\n",
    "    batch_xs,batch_ys = mnist.train.next_batch(100)\n",
    "    sess.run( train_step,feed_dict={xs:batch_xs , ys:batch_ys})\n",
    "    if i % 50 == 0:\n",
    "        print(compute_accuracy(mnist.test.images,mnist.test.labels))"
   ]
  },
  {
   "cell_type": "markdown",
   "metadata": {},
   "source": [
    "# Tensorflow 17 dropout"
   ]
  },
  {
   "cell_type": "code",
   "execution_count": 1,
   "metadata": {},
   "outputs": [
    {
     "name": "stderr",
     "output_type": "stream",
     "text": [
      "D:\\Anaconda3\\lib\\site-packages\\sklearn\\cross_validation.py:44: DeprecationWarning: This module was deprecated in version 0.18 in favor of the model_selection module into which all the refactored classes and functions are moved. Also note that the interface of the new CV iterators are different from that of this module. This module will be removed in 0.20.\n",
      "  \"This module will be removed in 0.20.\", DeprecationWarning)\n"
     ]
    }
   ],
   "source": [
    "import tensorflow as tf\n",
    "from sklearn.datasets import load_digits\n",
    "from sklearn.cross_validation import train_test_split\n",
    "from sklearn.preprocessing import LabelBinarizer\n",
    "import numpy as np"
   ]
  },
  {
   "cell_type": "code",
   "execution_count": 2,
   "metadata": {
    "collapsed": true
   },
   "outputs": [],
   "source": [
    "def add_layer(inputs, in_size, out_size, layer_name, keep_prod, activation_funtion=None):\n",
    "    # add one more layer and return the output of this layer\n",
    "    Weights = tf.Variable( tf.random_normal( [in_size,out_size] ),name='W' )\n",
    "    biases = tf.Variable( tf.zeros( [1,out_size] ) + 0.1,name='b ' )\n",
    "    Wx_plus_b = tf.matmul( inputs,Weights ) + biases\n",
    "    Wx_plus_b = tf.nn.dropout(Wx_plus_b,keep_prod)\n",
    "    if activation_funtion is None:\n",
    "        outputs = Wx_plus_b\n",
    "    else:\n",
    "        outputs = activation_funtion( Wx_plus_b )\n",
    "    tf.summary.histogram(layer_name+'/outputs',outputs )\n",
    "    return outputs"
   ]
  },
  {
   "cell_type": "code",
   "execution_count": 3,
   "metadata": {
    "collapsed": true
   },
   "outputs": [],
   "source": [
    "digits = load_digits()\n",
    "X = digits.data\n",
    "y = digits.target\n",
    "y = LabelBinarizer().fit_transform(y)\n",
    "X_train,X_test,y_train,y_test = train_test_split(X,y,test_size=.3)"
   ]
  },
  {
   "cell_type": "code",
   "execution_count": 4,
   "metadata": {
    "collapsed": true
   },
   "outputs": [],
   "source": [
    "keep_prod = tf.placeholder( tf.float32 )\n",
    "xs = tf.placeholder( tf.float32,[None,64] )\n",
    "ys = tf.placeholder( tf.float32,[None,10] )\n",
    "\n",
    "l1 = add_layer( xs,64,50,'l1',keep_prod,activation_funtion=tf.nn.tanh)\n",
    "prediction = add_layer( l1,50,10,'l2',keep_prod,activation_funtion=tf.nn.softmax )\n",
    "\n",
    "cross_entropy = tf.reduce_mean(-tf.reduce_sum(ys*tf.log(prediction)\n",
    "                                              ,reduction_indices=[1]))\n",
    "tf.summary.scalar('loss',cross_entropy)\n",
    "train_step = tf.train.GradientDescentOptimizer(0.6).minimize(cross_entropy)\n",
    "\n",
    "sess = tf.Session()\n",
    "merged = tf.summary.merge_all()\n",
    "\n",
    "train_writer = tf.summary.FileWriter( \"logs/train\",sess.graph )\n",
    "test_writer = tf.summary.FileWriter( \"logs/test\",sess.graph )\n",
    "\n",
    "sess.run(tf.global_variables_initializer())\n",
    "\n",
    "for i in range(500):\n",
    "    sess.run( train_step,feed_dict={xs:X_train , ys:y_train,keep_prod:0.5} )\n",
    "    if i % 50 == 0:\n",
    "        train_result = sess.run( merged,feed_dict={xs:X_train , ys:y_train , keep_prod:1} )\n",
    "        test_result = sess.run( merged,feed_dict={xs:X_test , ys:y_test , keep_prod:1} )\n",
    "        \n",
    "        train_writer.add_summary( train_result,i )\n",
    "        test_writer.add_summary( test_result,i )"
   ]
  },
  {
   "cell_type": "markdown",
   "metadata": {},
   "source": [
    "# CNN"
   ]
  },
  {
   "cell_type": "code",
   "execution_count": 12,
   "metadata": {
    "collapsed": true
   },
   "outputs": [],
   "source": [
    "import tensorflow as tf\n",
    "from tensorflow.examples.tutorials.mnist import input_data\n",
    "import numpy as np"
   ]
  },
  {
   "cell_type": "code",
   "execution_count": 13,
   "metadata": {
    "collapsed": true
   },
   "outputs": [],
   "source": [
    "def compute_accuracy(v_xs, v_ys):\n",
    "    global prediction\n",
    "    y_pre = sess.run(prediction,feed_dict={xs:v_xs,keep_prod:1})\n",
    "    correct_prediction = tf.equal(tf.argmax(y_pre,1),tf.argmax(v_ys,1))\n",
    "    accuracy = tf.reduce_mean(tf.cast(correct_prediction,tf.float32))\n",
    "    result = sess.run(accuracy,feed_dict={xs:v_xs , ys:v_ys})\n",
    "    return result"
   ]
  },
  {
   "cell_type": "code",
   "execution_count": 14,
   "metadata": {
    "collapsed": true
   },
   "outputs": [],
   "source": [
    "def weight_variable(shape):\n",
    "    inital = tf.truncated_normal(shape,stddev=0.1)\n",
    "    return tf.Variable(inital)"
   ]
  },
  {
   "cell_type": "code",
   "execution_count": 15,
   "metadata": {
    "collapsed": true
   },
   "outputs": [],
   "source": [
    "def bias_variable(shape):\n",
    "    inital = tf.constant(0.1,shape=shape)\n",
    "    return tf.Variable(inital)"
   ]
  },
  {
   "cell_type": "code",
   "execution_count": 16,
   "metadata": {
    "collapsed": true
   },
   "outputs": [],
   "source": [
    "def conv2d(x,W):\n",
    "    # strides [1, x_movement, y_movement, 1]\n",
    "    # Must have strides[0]=strides[4]=1\n",
    "    return tf.nn.conv2d(x,W,strides=[1,1,1,1],padding='SAME' ) "
   ]
  },
  {
   "cell_type": "code",
   "execution_count": 17,
   "metadata": {
    "collapsed": true
   },
   "outputs": [],
   "source": [
    "def max_pool_2x2(x):\n",
    "    # strides [1, x_movement, y_movement, 1]\n",
    "    return tf.nn.max_pool(x,ksize=[1,2,2,1],strides=[1,2,2,1],padding='SAME')"
   ]
  },
  {
   "cell_type": "code",
   "execution_count": 18,
   "metadata": {},
   "outputs": [
    {
     "name": "stdout",
     "output_type": "stream",
     "text": [
      "Extracting MNIST_data\\train-images-idx3-ubyte.gz\n",
      "Extracting MNIST_data\\train-labels-idx1-ubyte.gz\n",
      "Extracting MNIST_data\\t10k-images-idx3-ubyte.gz\n",
      "Extracting MNIST_data\\t10k-labels-idx1-ubyte.gz\n"
     ]
    }
   ],
   "source": [
    "mnist = input_data.read_data_sets( 'MNIST_data',one_hot=True )"
   ]
  },
  {
   "cell_type": "code",
   "execution_count": 20,
   "metadata": {
    "collapsed": true
   },
   "outputs": [
    {
     "name": "stdout",
     "output_type": "stream",
     "text": [
      "0.1073\n",
      "0.4297\n",
      "0.6687\n",
      "0.7587\n",
      "0.8139\n",
      "0.8429\n",
      "0.8642\n",
      "0.8804\n",
      "0.89\n",
      "0.8969\n",
      "0.9063\n",
      "0.9136\n",
      "0.9142\n",
      "0.9239\n",
      "0.9223\n",
      "0.9268\n",
      "0.9304\n",
      "0.9342\n",
      "0.9357\n",
      "0.9383\n"
     ]
    }
   ],
   "source": [
    "xs = tf.placeholder( tf.float32,[None,784] )\n",
    "ys = tf.placeholder( tf.float32,[None,10] )\n",
    "keep_prod = tf.placeholder( tf.float32 )\n",
    "x_image = tf.reshape( xs,[-1,28,28,1]) # [num,width,length,channel]\n",
    "# print(x_image.shape) # [n_sameples,28,28,1]\n",
    "\n",
    "# conv1 layer\n",
    "W_conv1 = weight_variable( [5,5,1,4] )# patch 5x5, in size 1, out size 4\n",
    "b_conv1 = bias_variable( [4] )\n",
    "h_conv1 = tf.nn.relu( conv2d( x_image,W_conv1 ) + b_conv1 )# output size is 28x28x4\n",
    "h_pool1 = max_pool_2x2( h_conv1 )                          # output size is 14x14x4\n",
    "\n",
    "# conv2 layer\n",
    "W_conv2 = weight_variable( [5,5,4,8] )# patch 5x5, in size 4, out size 8\n",
    "b_conv2 = bias_variable( [8] )\n",
    "h_conv2 = tf.nn.relu( conv2d( h_pool1,W_conv2 ) + b_conv2 )# output size is 14x14x8\n",
    "h_pool2 = max_pool_2x2( h_conv2 )                          # output size is 7x7x8\n",
    "\n",
    "# func1 layer\n",
    "W_fcl = weight_variable( [7*7*8,1024] )\n",
    "b_fc1 = bias_variable( [1024] )\n",
    "h_pool2_flat = tf.reshape( h_pool2,[-1,7*7*8] )# [n_sample,7,7,64]->>[n_sample,7*7*64]\n",
    "h_fc1 = tf.nn.relu( tf.matmul( h_pool2_flat,W_fcl ) + b_fc1 )\n",
    "h_fc1_drop = tf.nn.dropout( h_fc1,keep_prod )\n",
    "\n",
    "# func2 layer\n",
    "W_fc2 = weight_variable( [1024,10] )\n",
    "b_fc2 = bias_variable( [10] )\n",
    "prediction = tf.nn.softmax( tf.matmul( h_fc1_drop,W_fc2 ) + b_fc2 )\n",
    "\n",
    "cross_entroy = tf.reduce_mean( -tf.reduce_sum(ys * tf.log(prediction),reduction_indices=[1]))\n",
    "train_step = tf.train.AdamOptimizer(1e-4).minimize(cross_entroy)\n",
    "\n",
    "sess = tf.Session()\n",
    "sess.run( tf.global_variables_initializer() )\n",
    "\n",
    "for i in range(1000):\n",
    "    batch_xs,batch_ys = mnist.train.next_batch(100)\n",
    "    sess.run( train_step,feed_dict={xs:batch_xs , ys:batch_ys , keep_prod:0.5} )\n",
    "    if i % 50 == 0:\n",
    "        print(compute_accuracy( mnist.test.images , mnist.test.labels ))"
   ]
  },
  {
   "cell_type": "markdown",
   "metadata": {
    "collapsed": true
   },
   "source": [
    "# Tensorflow 19 Saver"
   ]
  },
  {
   "cell_type": "code",
   "execution_count": 1,
   "metadata": {
    "collapsed": true
   },
   "outputs": [],
   "source": [
    "import tensorflow as tf\n",
    "import numpy as np"
   ]
  },
  {
   "cell_type": "code",
   "execution_count": 2,
   "metadata": {},
   "outputs": [
    {
     "name": "stdout",
     "output_type": "stream",
     "text": [
      "Save to paht:  my_net/save_net.ckpt\n"
     ]
    }
   ],
   "source": [
    "# Save to file\n",
    "# remember to define the same dtype and shape when restore\n",
    "W = tf.Variable( [[1,2,3],[3,4,5]],dtype=tf.float32,name='weights' )\n",
    "b = tf.Variable( [[1,2,3]],dtype=tf.float32,name='biases' )\n",
    "\n",
    "init = tf.global_variables_initializer()\n",
    "\n",
    "saver = tf.train.Saver()\n",
    "\n",
    "with tf.Session() as sess:\n",
    "    sess.run(init)\n",
    "    save_path = saver.save(sess,\"my_net/save_net.ckpt\")\n",
    "    print(\"Save to paht: \",save_path)"
   ]
  },
  {
   "cell_type": "code",
   "execution_count": 2,
   "metadata": {
    "scrolled": false
   },
   "outputs": [
    {
     "name": "stdout",
     "output_type": "stream",
     "text": [
      "INFO:tensorflow:Restoring parameters from my_net/save_net.ckpt\n",
      "weight:  [[ 1.  2.  3.]\n",
      " [ 3.  4.  5.]]\n",
      "biases:  [[ 1.  2.  3.]]\n"
     ]
    }
   ],
   "source": [
    "# restore variables\n",
    "# redefine the same shape and same dtype for your variable\n",
    "W = tf.Variable( np.arange(6).reshape((2,3)),dtype=tf.float32,name=\"weights\" )\n",
    "b = tf.Variable( np.arange(3).reshape((1,3)),dtype=tf.float32,name=\"biases\" )\n",
    "\n",
    "# not need init step\n",
    "saver = tf.train.Saver()\n",
    "with tf.Session() as sess:\n",
    "    saver.restore( sess,\"my_net/save_net.ckpt\" )\n",
    "    print( \"weight: \",sess.run(W) )\n",
    "    print( \"biases: \",sess.run(b) )"
   ]
  },
  {
   "cell_type": "markdown",
   "metadata": {
    "collapsed": true
   },
   "source": [
    "# Tensorflow 20 RNN"
   ]
  },
  {
   "cell_type": "code",
   "execution_count": 1,
   "metadata": {
    "collapsed": true
   },
   "outputs": [],
   "source": [
    "import tensorflow as tf\n",
    "from tensorflow.examples.tutorials.mnist import input_data\n",
    "import numpy as py"
   ]
  },
  {
   "cell_type": "code",
   "execution_count": 2,
   "metadata": {},
   "outputs": [
    {
     "name": "stdout",
     "output_type": "stream",
     "text": [
      "Extracting MNIST_data\\train-images-idx3-ubyte.gz\n",
      "Extracting MNIST_data\\train-labels-idx1-ubyte.gz\n",
      "Extracting MNIST_data\\t10k-images-idx3-ubyte.gz\n",
      "Extracting MNIST_data\\t10k-labels-idx1-ubyte.gz\n"
     ]
    }
   ],
   "source": [
    "# set data\n",
    "mnist = input_data.read_data_sets( 'MNIST_data',one_hot=True )\n",
    "\n",
    "# hyperparameters\n",
    "lr = 0.6\n",
    "training_iters = 100000\n",
    "batch_size = 100\n",
    "\n",
    "n_inputs = 28\n",
    "n_steps = 28\n",
    "n_hidden_unis = 128\n",
    "n_classes = 10\n"
   ]
  },
  {
   "cell_type": "code",
   "execution_count": 3,
   "metadata": {
    "collapsed": true
   },
   "outputs": [],
   "source": [
    "# tf Graph input\n",
    "x = tf.placeholder( tf.float32,[None,n_steps,n_inputs] )\n",
    "y = tf.placeholder( tf.float32,[None,n_classes] )\n",
    "\n",
    "# Define weights\n",
    "weights = {'in':tf.Variable( tf.random_normal([n_inputs,n_hidden_unis]) ),\n",
    "           'out':tf.Variable( tf.random_normal([n_hidden_unis,n_classes]) )}\n",
    "biases = {'in':tf.Variable( tf.constant(0.1,shape=[n_hidden_unis,]) ),\n",
    "          'out':tf.Variable( tf.constant(0.1,shape=[n_classes,]) )}"
   ]
  },
  {
   "cell_type": "code",
   "execution_count": 4,
   "metadata": {
    "collapsed": true
   },
   "outputs": [],
   "source": [
    "def RNN(X, weights, biases):\n",
    "    # hidden layer for input to cell\n",
    "    X = tf.reshape(X,[-1,n_inputs])\n",
    "    X_in = tf.matmul(X,weights['in']) + biases['in']\n",
    "    X_in = tf.reshape(X_in,[-1,n_steps,n_hidden_unis])\n",
    "    \n",
    "    # cell\n",
    "    lstm_cell = tf.nn.rnn_cell.BasicLSTMCell(n_hidden_unis,forget_bias=1.0,state_is_tuple=True)\n",
    "    # lstm cell is divided into two parts(c_state,m_state)\n",
    "    _init_state = lstm_cell.zero_state(batch_size,dtype=tf.float32)\n",
    "    \n",
    "    # if time is the first dim of X_in, time_major=True\n",
    "    outputs,states = tf.nn.dynamic_rnn(lstm_cell,X_in,initial_state=_init_state,time_major=False)\n",
    "    \n",
    "    # hidden layer for output as the final results\n",
    "    #results = tf.matmul(states[1],weights['out']) + biases['out']\n",
    "    # or\n",
    "    outputs = tf.unstack(tf.transpose(outputs,[1,0,2]))\n",
    "    results = tf.matmul(outputs[-1],weights['out']) + biases['out']\n",
    "    \n",
    "    return results"
   ]
  },
  {
   "cell_type": "code",
   "execution_count": 5,
   "metadata": {
    "collapsed": true
   },
   "outputs": [
    {
     "name": "stdout",
     "output_type": "stream",
     "text": [
      "0.106399999484\n",
      "0.468199997544\n",
      "0.568599997759\n",
      "0.669500001669\n",
      "0.719299999475\n",
      "0.775399998426\n",
      "0.767799999714\n",
      "0.725400001407\n",
      "0.818799999952\n",
      "0.794799997807\n",
      "0.840699997544\n",
      "0.831599997282\n",
      "0.83539999783\n",
      "0.828099996448\n",
      "0.84720000267\n",
      "0.862300000787\n",
      "0.734700000286\n",
      "0.86279999733\n",
      "0.869900000095\n",
      "0.877300004363\n",
      "0.881899998784\n",
      "0.862299997211\n",
      "0.882199998498\n",
      "0.883200002909\n",
      "0.896800000072\n",
      "0.881100000143\n",
      "0.896600000858\n",
      "0.884499998093\n",
      "0.888700000644\n",
      "0.883700000048\n",
      "0.900800001621\n",
      "0.902899997234\n",
      "0.900700000525\n",
      "0.905800001621\n",
      "0.913000004888\n",
      "0.902200003266\n",
      "0.896099999547\n",
      "0.908300004005\n",
      "0.900200001597\n",
      "0.908200001121\n",
      "0.917000003457\n",
      "0.910100002289\n",
      "0.89469999969\n",
      "0.91210000217\n",
      "0.922099999785\n",
      "0.915600003004\n",
      "0.928000003099\n",
      "0.919800000191\n",
      "0.929700002074\n",
      "0.924799999595\n"
     ]
    }
   ],
   "source": [
    "pred = RNN( x,weights,biases )\n",
    "cost = tf.reduce_mean( tf.nn.softmax_cross_entropy_with_logits( labels=y , logits=pred ) )\n",
    "train_op = tf.train.GradientDescentOptimizer(lr).minimize(cost)\n",
    "\n",
    "correct_pred = tf.equal( tf.argmax(pred,1),tf.argmax(y,1) )\n",
    "accuracy = tf.reduce_mean( tf.cast(correct_pred,tf.float32) )\n",
    "\n",
    "init = tf.global_variables_initializer()\n",
    "\n",
    "with tf.Session() as sess:\n",
    "    sess.run(init)\n",
    "    step = 0\n",
    "    while step * batch_size < training_iters:\n",
    "        batch_xs,batch_ys = mnist.train.next_batch(batch_size)\n",
    "        batch_xs = batch_xs.reshape([batch_size,n_steps,n_inputs])\n",
    "        sess.run(train_op,feed_dict={x:batch_xs , y:batch_ys})\n",
    "        if step % 20 == 0:\n",
    "            acc = 0\n",
    "            for _ in range(int(10000/batch_size)):\n",
    "                test_xs,test_ys = mnist.test.next_batch(batch_size)\n",
    "                test_xs = test_xs.reshape([batch_size,n_steps,n_inputs])\n",
    "                acc = acc + sess.run(accuracy,feed_dict={x:test_xs , y:test_ys })*batch_size\n",
    "            print(acc/10000)\n",
    "            #print(sess.run(accuracy,feed_dict={x:batch_xs , y:batch_ys }))\n",
    "        step += 1"
   ]
  },
  {
   "cell_type": "markdown",
   "metadata": {
    "collapsed": true
   },
   "source": [
    "# Tensorflow 20 RNN lstm regression"
   ]
  },
  {
   "cell_type": "code",
   "execution_count": 1,
   "metadata": {
    "collapsed": true
   },
   "outputs": [],
   "source": [
    "import tensorflow as tf\n",
    "import numpy as np\n",
    "import matplotlib.pyplot as plt\n",
    "\n",
    "BATCH_START = 0     # 建立 batch data 时候的 index\n",
    "TIME_STEPS = 20     # backpropagation through time 的 time_steps\n",
    "BATCH_SIZE = 50     \n",
    "INPUT_SIZE = 1      # sin 数据输入 size\n",
    "OUTPUT_SIZE = 1     # cos 数据输出 size\n",
    "CELL_SIZE = 10      # RNN 的 hidden unit size \n",
    "LR = 0.006          # learning rate"
   ]
  },
  {
   "cell_type": "code",
   "execution_count": 2,
   "metadata": {
    "collapsed": true
   },
   "outputs": [],
   "source": [
    "def get_batch():\n",
    "    global BATCH_START, TIME_STEPS\n",
    "    # xs shape (50batch, 20steps)\n",
    "    xs = np.arange(BATCH_START, BATCH_START+TIME_STEPS*BATCH_SIZE).reshape((BATCH_SIZE, TIME_STEPS)) / (10*np.pi)\n",
    "    seq = np.sin(xs)\n",
    "    res = np.cos(xs)\n",
    "    BATCH_START += TIME_STEPS\n",
    "    # returned seq, res and xs: shape (batch, step, input)\n",
    "    return [seq[:, :, np.newaxis], res[:, :, np.newaxis], xs]"
   ]
  },
  {
   "cell_type": "code",
   "execution_count": 3,
   "metadata": {
    "collapsed": true
   },
   "outputs": [],
   "source": [
    "class LSTMRNN(object):\n",
    "    def __init__(self, n_steps, input_size, output_size, cell_size, batch_size):\n",
    "        self.n_steps = n_steps\n",
    "        self.input_size = input_size\n",
    "        self.output_size = output_size\n",
    "        self.cell_size = cell_size\n",
    "        self.batch_size = batch_size\n",
    "        with tf.name_scope('inputs'):\n",
    "            self.xs = tf.placeholder(tf.float32, [None, n_steps, input_size], name='xs')\n",
    "            self.ys = tf.placeholder(tf.float32, [None, n_steps, output_size], name='ys')\n",
    "        with tf.variable_scope('in_hidden'):\n",
    "            self.add_input_layer()\n",
    "        with tf.variable_scope('LSTM_cell'):\n",
    "            self.add_cell()\n",
    "        with tf.variable_scope('out_hidden'):\n",
    "            self.add_output_layer()\n",
    "        with tf.name_scope('cost'):\n",
    "            self.compute_cost()\n",
    "        with tf.name_scope('train'):\n",
    "            self.train_op = tf.train.AdamOptimizer(LR).minimize(self.cost)\n",
    "    \n",
    "    def add_input_layer(self,):\n",
    "        l_in_x = tf.reshape(self.xs, [-1, self.input_size], name='2_2D')  # (batch*n_step, in_size)\n",
    "        # Ws (in_size, cell_size)\n",
    "        Ws_in = self._weight_variable([self.input_size, self.cell_size])\n",
    "        # bs (cell_size, )\n",
    "        bs_in = self._bias_variable([self.cell_size,])\n",
    "        # l_in_y = (batch * n_steps, cell_size)\n",
    "        with tf.name_scope('Wx_plus_b'):\n",
    "            l_in_y = tf.matmul(l_in_x, Ws_in) + bs_in\n",
    "        # reshape l_in_y ==> (batch, n_steps, cell_size)\n",
    "        self.l_in_y = tf.reshape(l_in_y, [-1, self.n_steps, self.cell_size], name='2_3D')\n",
    "        \n",
    "    def add_cell(self):\n",
    "        lstm_cell = tf.contrib.rnn.BasicLSTMCell(self.cell_size, forget_bias=1.0, state_is_tuple=True)\n",
    "        with tf.name_scope('initial_state'):\n",
    "            self.cell_init_state = lstm_cell.zero_state(self.batch_size, dtype=tf.float32)\n",
    "        self.cell_outputs, self.cell_final_state = tf.nn.dynamic_rnn(\n",
    "            lstm_cell, self.l_in_y, initial_state=self.cell_init_state, time_major=False)\n",
    "        \n",
    "    def add_output_layer(self):\n",
    "        # shape = (batch * steps, cell_size)\n",
    "        l_out_x = tf.reshape(self.cell_outputs, [-1, self.cell_size], name='2_2D')\n",
    "        Ws_out = self._weight_variable([self.cell_size, self.output_size])\n",
    "        bs_out = self._bias_variable([self.output_size, ])\n",
    "        # shape = (batch * steps, output_size)\n",
    "        with tf.name_scope('Wx_plus_b'):\n",
    "            self.pred = tf.matmul(l_out_x, Ws_out) + bs_out\n",
    "    \n",
    "    def compute_cost(self):\n",
    "        losses = tf.contrib.legacy_seq2seq.sequence_loss_by_example(\n",
    "            [tf.reshape(self.pred, [-1], name='reshape_pred')],\n",
    "            [tf.reshape(self.ys, [-1], name='reshape_target')],\n",
    "            [tf.ones([self.batch_size * self.n_steps], dtype=tf.float32)],\n",
    "            average_across_timesteps=True,\n",
    "            softmax_loss_function=self.ms_error,\n",
    "            name='losses'\n",
    "        )\n",
    "        with tf.name_scope('average_cost'):\n",
    "            self.cost = tf.div(\n",
    "                tf.reduce_sum(losses, name='losses_sum'),\n",
    "                self.batch_size,\n",
    "                name='average_cost')\n",
    "            tf.summary.scalar('cost', self.cost)\n",
    "\n",
    "    def ms_error(self, labels, logits):\n",
    "        return tf.square(labels-logits)\n",
    "\n",
    "    def _weight_variable(self, shape, name='weights'):\n",
    "        initializer = tf.random_normal_initializer(mean=0., stddev=1.,)\n",
    "        return tf.get_variable(shape=shape, initializer=initializer, name=name)\n",
    "\n",
    "    def _bias_variable(self, shape, name='biases'):\n",
    "        initializer = tf.constant_initializer(0.1)\n",
    "        return tf.get_variable(name=name, shape=shape, initializer=initializer)"
   ]
  },
  {
   "cell_type": "code",
   "execution_count": 4,
   "metadata": {},
   "outputs": [
    {
     "name": "stdout",
     "output_type": "stream",
     "text": [
      "cost:  10.5351\n",
      "cost:  7.348\n",
      "cost:  2.6459\n",
      "cost:  2.1704\n",
      "cost:  0.6533\n",
      "cost:  0.2235\n",
      "cost:  0.3024\n",
      "cost:  0.3607\n",
      "cost:  0.045\n",
      "cost:  0.0644\n"
     ]
    }
   ],
   "source": [
    "if __name__ == '__main__':\n",
    "    # 搭建 LSTMRNN 模型\n",
    "    model = LSTMRNN(TIME_STEPS, INPUT_SIZE, OUTPUT_SIZE, CELL_SIZE, BATCH_SIZE)\n",
    "    sess = tf.Session()\n",
    "    sess.run(tf.global_variables_initializer())\n",
    "    \n",
    "    # 训练 200 次\n",
    "    for i in range(200):\n",
    "        seq, res, xs = get_batch()  # 提取 batch data\n",
    "        if i == 0:\n",
    "        # 初始化 data\n",
    "            feed_dict = {\n",
    "                    model.xs: seq,\n",
    "                    model.ys: res,\n",
    "            }\n",
    "        else:\n",
    "            feed_dict = {\n",
    "                model.xs: seq,\n",
    "                model.ys: res,\n",
    "                model.cell_init_state: state    # 保持 state 的连续性\n",
    "            }\n",
    "        \n",
    "        # 训练\n",
    "        _, cost, state, pred = sess.run(\n",
    "            [model.train_op, model.cost, model.cell_final_state, model.pred],\n",
    "            feed_dict=feed_dict)\n",
    "        \n",
    "        # 打印 cost 结果\n",
    "        if i % 20 == 0:\n",
    "            print('cost: ', round(cost, 4))"
   ]
  },
  {
   "cell_type": "markdown",
   "metadata": {
    "collapsed": true
   },
   "source": [
    "# Tensorflow 21 Autoencoder"
   ]
  },
  {
   "cell_type": "code",
   "execution_count": 1,
   "metadata": {
    "collapsed": true
   },
   "outputs": [],
   "source": [
    "import tensorflow as tf\n",
    "import numpy as np\n",
    "import matplotlib.pyplot as plt\n",
    "from tensorflow.examples.tutorials.mnist import input_data"
   ]
  },
  {
   "cell_type": "code",
   "execution_count": 2,
   "metadata": {},
   "outputs": [
    {
     "name": "stdout",
     "output_type": "stream",
     "text": [
      "Extracting MNIST_data\\train-images-idx3-ubyte.gz\n",
      "Extracting MNIST_data\\train-labels-idx1-ubyte.gz\n",
      "Extracting MNIST_data\\t10k-images-idx3-ubyte.gz\n",
      "Extracting MNIST_data\\t10k-labels-idx1-ubyte.gz\n"
     ]
    }
   ],
   "source": [
    "mnist = input_data.read_data_sets( 'MNIST_data',one_hot=True )"
   ]
  },
  {
   "cell_type": "code",
   "execution_count": 3,
   "metadata": {
    "collapsed": true
   },
   "outputs": [],
   "source": [
    "# Building the encoder\n",
    "def encoder(x):\n",
    "    # Encoder Hidden layer with sigmoid activation #1\n",
    "    layer_1 = tf.nn.sigmoid(tf.add(tf.matmul(x, weights['encoder_h1']),\n",
    "                                   biases['encoder_b1']))\n",
    "    # Decoder Hidden layer with sigmoid activation #2\n",
    "    layer_2 = tf.nn.sigmoid(tf.add(tf.matmul(layer_1, weights['encoder_h2']),\n",
    "                                   biases['encoder_b2']))\n",
    "    return layer_2\n",
    "    \n",
    "# Building the decoder\n",
    "def decoder(x):\n",
    "    # Encoder Hidden layer with sigmoid activation #1\n",
    "    layer_1 = tf.nn.sigmoid(tf.add(tf.matmul(x, weights['decoder_h1']),\n",
    "                                   biases['decoder_b1']))\n",
    "    # Decoder Hidden layer with sigmoid activation #2\n",
    "    layer_2 = tf.nn.sigmoid(tf.add(tf.matmul(layer_1, weights['decoder_h2']),\n",
    "                                   biases['decoder_b2']))\n",
    "    return layer_2"
   ]
  },
  {
   "cell_type": "code",
   "execution_count": 4,
   "metadata": {
    "collapsed": true
   },
   "outputs": [],
   "source": [
    "# Parameter\n",
    "learning_rate = 0.01\n",
    "training_epochs = 20 # 五组训练\n",
    "batch_size = 256\n",
    "display_step = 1\n",
    "examples_to_show = 10\n",
    "\n",
    "# Network Parameters\n",
    "n_input = 784  # MNIST data input (img shape: 28*28)\n",
    "\n",
    "X = tf.placeholder(\"float\", [None, n_input])\n",
    "\n",
    "# hidden layer settings\n",
    "n_hidden_1 = 256 # 1st layer num features\n",
    "n_hidden_2 = 128 # 2nd layer num features\n",
    "weights = {\n",
    "    'encoder_h1':tf.Variable(tf.random_normal([n_input,n_hidden_1])),\n",
    "    'encoder_h2': tf.Variable(tf.random_normal([n_hidden_1,n_hidden_2])),\n",
    "    'decoder_h1': tf.Variable(tf.random_normal([n_hidden_2,n_hidden_1])),\n",
    "    'decoder_h2': tf.Variable(tf.random_normal([n_hidden_1, n_input])),\n",
    "    }\n",
    "biases = {\n",
    "    'encoder_b1': tf.Variable(tf.random_normal([n_hidden_1])),\n",
    "    'encoder_b2': tf.Variable(tf.random_normal([n_hidden_2])),\n",
    "    'decoder_b1': tf.Variable(tf.random_normal([n_hidden_1])),\n",
    "    'decoder_b2': tf.Variable(tf.random_normal([n_input])),\n",
    "    }"
   ]
  },
  {
   "cell_type": "code",
   "execution_count": 5,
   "metadata": {
    "collapsed": true
   },
   "outputs": [],
   "source": [
    "# Construct model\n",
    "encoder_op = encoder(X)             # 128 Features\n",
    "decoder_op = decoder(encoder_op)    # 784 Features\n",
    "\n",
    "# Prediction\n",
    "y_pred = decoder_op\t# After \n",
    "# Targets (Labels) are the input data.\n",
    "y_true = X            # Before\n",
    "# Define loss and optimizer, minimize the squared error\n",
    "cost = tf.reduce_mean(tf.pow(y_true - y_pred, 2))\n",
    "optimizer = tf.train.AdamOptimizer(learning_rate).minimize(cost)"
   ]
  },
  {
   "cell_type": "code",
   "execution_count": 6,
   "metadata": {},
   "outputs": [
    {
     "name": "stdout",
     "output_type": "stream",
     "text": [
      "Epoch: 0001 cost= 0.085699007\n",
      "Epoch: 0002 cost= 0.071234301\n",
      "Epoch: 0003 cost= 0.071546800\n",
      "Epoch: 0004 cost= 0.066919550\n",
      "Epoch: 0005 cost= 0.064331219\n",
      "Epoch: 0006 cost= 0.061146416\n",
      "Epoch: 0007 cost= 0.061886013\n",
      "Epoch: 0008 cost= 0.059647769\n",
      "Epoch: 0009 cost= 0.058098666\n",
      "Epoch: 0010 cost= 0.059562646\n",
      "Epoch: 0011 cost= 0.056229651\n",
      "Epoch: 0012 cost= 0.055639364\n",
      "Epoch: 0013 cost= 0.056844439\n",
      "Epoch: 0014 cost= 0.058168046\n",
      "Epoch: 0015 cost= 0.057445101\n",
      "Epoch: 0016 cost= 0.053151667\n",
      "Epoch: 0017 cost= 0.056329407\n",
      "Epoch: 0018 cost= 0.055452805\n",
      "Epoch: 0019 cost= 0.055545092\n",
      "Epoch: 0020 cost= 0.054318339\n",
      "Optimization Finished!\n"
     ]
    },
    {
     "data": {
      "image/png": "[encoded data removed]",
      "text/plain": [
       "<matplotlib.figure.Figure at 0xedfda58>"
      ]
     },
     "metadata": {},
     "output_type": "display_data"
    }
   ],
   "source": [
    "# Launch the graph\n",
    "with tf.Session() as sess:\n",
    "    # tf 马上就要废弃tf.initialize_all_variables()这种写法\n",
    "    # 替换成下面:\n",
    "    sess.run(tf.global_variables_initializer())\n",
    "    total_batch = int(mnist.train.num_examples/batch_size)\n",
    "    # Training cycle\n",
    "    for epoch in range(training_epochs):\n",
    "        # Loop over all batches\n",
    "        for i in range(total_batch):\n",
    "            batch_xs, batch_ys = mnist.train.next_batch(batch_size)  # max(x) = 1, min(x) = 0\n",
    "            # Run optimization op (backprop) and cost op (to get loss value)\n",
    "            _, c = sess.run([optimizer, cost], feed_dict={X: batch_xs})\n",
    "        # Display logs per epoch step\n",
    "        if epoch % display_step == 0:\n",
    "            print(\"Epoch:\", '%04d' % (epoch+1),\n",
    "                  \"cost=\", \"{:.9f}\".format(c))\n",
    "\n",
    "    print(\"Optimization Finished!\")\n",
    "\n",
    "    # # Applying encode and decode over test set\n",
    "    encode_decode = sess.run(\n",
    "        y_pred, feed_dict={X: mnist.test.images[:examples_to_show]})\n",
    "    # Compare original images with their reconstructions\n",
    "    f, a = plt.subplots(2, 10, figsize=(10, 2))\n",
    "    for i in range(examples_to_show):\n",
    "        a[0][i].imshow(np.reshape(mnist.test.images[i], (28, 28)))\n",
    "        a[1][i].imshow(np.reshape(encode_decode[i], (28, 28)))\n",
    "    plt.show()"
   ]
  },
  {
   "cell_type": "code",
   "execution_count": null,
   "metadata": {
    "collapsed": true
   },
   "outputs": [],
   "source": []
  },
  {
   "cell_type": "code",
   "execution_count": null,
   "metadata": {
    "collapsed": true
   },
   "outputs": [],
   "source": []
  },
  {
   "cell_type": "code",
   "execution_count": null,
   "metadata": {
    "collapsed": true
   },
   "outputs": [],
   "source": []
  },
  {
   "cell_type": "code",
   "execution_count": null,
   "metadata": {
    "collapsed": true
   },
   "outputs": [],
   "source": []
  },
  {
   "cell_type": "code",
   "execution_count": null,
   "metadata": {
    "collapsed": true
   },
   "outputs": [],
   "source": []
  },
  {
   "cell_type": "code",
   "execution_count": null,
   "metadata": {
    "collapsed": true
   },
   "outputs": [],
   "source": []
  },
  {
   "cell_type": "code",
   "execution_count": null,
   "metadata": {
    "collapsed": true
   },
   "outputs": [],
   "source": []
  },
  {
   "cell_type": "code",
   "execution_count": null,
   "metadata": {
    "collapsed": true
   },
   "outputs": [],
   "source": []
  },
  {
   "cell_type": "code",
   "execution_count": null,
   "metadata": {
    "collapsed": true
   },
   "outputs": [],
   "source": []
  },
  {
   "cell_type": "code",
   "execution_count": null,
   "metadata": {
    "collapsed": true
   },
   "outputs": [],
   "source": []
  },
  {
   "cell_type": "code",
   "execution_count": null,
   "metadata": {
    "collapsed": true
   },
   "outputs": [],
   "source": []
  },
  {
   "cell_type": "code",
   "execution_count": null,
   "metadata": {
    "collapsed": true
   },
   "outputs": [],
   "source": []
  },
  {
   "cell_type": "code",
   "execution_count": null,
   "metadata": {
    "collapsed": true
   },
   "outputs": [],
   "source": []
  },
  {
   "cell_type": "code",
   "execution_count": null,
   "metadata": {
    "collapsed": true
   },
   "outputs": [],
   "source": []
  },
  {
   "cell_type": "code",
   "execution_count": null,
   "metadata": {
    "collapsed": true
   },
   "outputs": [],
   "source": []
  },
  {
   "cell_type": "code",
   "execution_count": null,
   "metadata": {
    "collapsed": true
   },
   "outputs": [],
   "source": []
  },
  {
   "cell_type": "code",
   "execution_count": null,
   "metadata": {
    "collapsed": true
   },
   "outputs": [],
   "source": []
  },
  {
   "cell_type": "code",
   "execution_count": null,
   "metadata": {
    "collapsed": true
   },
   "outputs": [],
   "source": []
  },
  {
   "cell_type": "code",
   "execution_count": null,
   "metadata": {
    "collapsed": true
   },
   "outputs": [],
   "source": []
  },
  {
   "cell_type": "code",
   "execution_count": null,
   "metadata": {
    "collapsed": true
   },
   "outputs": [],
   "source": []
  },
  {
   "cell_type": "code",
   "execution_count": null,
   "metadata": {
    "collapsed": true
   },
   "outputs": [],
   "source": []
  },
  {
   "cell_type": "code",
   "execution_count": null,
   "metadata": {
    "collapsed": true
   },
   "outputs": [],
   "source": []
  },
  {
   "cell_type": "code",
   "execution_count": null,
   "metadata": {
    "collapsed": true
   },
   "outputs": [],
   "source": []
  },
  {
   "cell_type": "code",
   "execution_count": null,
   "metadata": {
    "collapsed": true
   },
   "outputs": [],
   "source": []
  },
  {
   "cell_type": "code",
   "execution_count": null,
   "metadata": {
    "collapsed": true
   },
   "outputs": [],
   "source": []
  },
  {
   "cell_type": "code",
   "execution_count": null,
   "metadata": {
    "collapsed": true
   },
   "outputs": [],
   "source": []
  }
 ],
 "metadata": {
  "kernelspec": {
   "display_name": "Python 3",
   "language": "python",
   "name": "python3"
  },
  "language_info": {
   "codemirror_mode": {
    "name": "ipython",
    "version": 3
   },
   "file_extension": ".py",
   "mimetype": "text/x-python",
   "name": "python",
   "nbconvert_exporter": "python",
   "pygments_lexer": "ipython3",
   "version": "3.6.1"
  }
 },
 "nbformat": 4,
 "nbformat_minor": 2
}
