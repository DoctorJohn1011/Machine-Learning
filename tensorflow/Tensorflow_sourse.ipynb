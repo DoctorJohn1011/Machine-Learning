{
 "cells": [
  {
   "cell_type": "code",
   "execution_count": 15,
   "metadata": {
    "collapsed": true
   },
   "outputs": [],
   "source": [
    "import tensorflow as tf\n",
    "import numpy as np"
   ]
  },
  {
   "cell_type": "markdown",
   "metadata": {},
   "source": [
    "# Tnensorflow 5 例子"
   ]
  },
  {
   "cell_type": "code",
   "execution_count": 13,
   "metadata": {
    "collapsed": true
   },
   "outputs": [],
   "source": [
    "# creat data\n",
    "x_data = np.random.rand(100).astype(np.float32)\n",
    "y_data = x_data*0.1 + 0.3"
   ]
  },
  {
   "cell_type": "code",
   "execution_count": 18,
   "metadata": {},
   "outputs": [
    {
     "name": "stdout",
     "output_type": "stream",
     "text": [
      "0 [ 0.62215161] [ 0.0308352]\n",
      "20 [ 0.23239382] [ 0.23099613]\n",
      "40 [ 0.13364778] [ 0.28246272]\n",
      "60 [ 0.10855156] [ 0.29554293]\n",
      "80 [ 0.1021734] [ 0.29886723]\n",
      "100 [ 0.10055237] [ 0.29971212]\n",
      "120 [ 0.10014039] [ 0.29992685]\n",
      "140 [ 0.10003569] [ 0.29998142]\n",
      "160 [ 0.10000908] [ 0.29999527]\n",
      "180 [ 0.10000231] [ 0.29999882]\n",
      "200 [ 0.1000006] [ 0.29999971]\n"
     ]
    }
   ],
   "source": [
    "### creat tensorflow structure start ###\n",
    "Weights = tf.Variable( tf.random_uniform([1],-1.0,1.0) )\n",
    "biases = tf.Variable( tf.zeros([1]) )\n",
    "\n",
    "y = Weights*x_data + biases\n",
    "\n",
    "loss = tf.reduce_mean( tf.square(y-y_data) )\n",
    "optimizer = tf.train.GradientDescentOptimizer(0.5)\n",
    "train = optimizer.minimize(loss)\n",
    "\n",
    "init = tf.global_variables_initializer()\n",
    "### creat tensorflow structure start ###\n",
    "\n",
    "sess = tf.Session()\n",
    "sess.run(init)\n",
    "\n",
    "for step in range(201):\n",
    "    sess.run(train)\n",
    "    if step % 20 == 0:\n",
    "        print( step, sess.run(Weights), sess.run(biases) )"
   ]
  },
  {
   "cell_type": "markdown",
   "metadata": {},
   "source": [
    "# Tensorflow 6 Session"
   ]
  },
  {
   "cell_type": "code",
   "execution_count": 20,
   "metadata": {
    "collapsed": true
   },
   "outputs": [],
   "source": [
    "import tensorflow as tf"
   ]
  },
  {
   "cell_type": "code",
   "execution_count": 24,
   "metadata": {},
   "outputs": [
    {
     "name": "stdout",
     "output_type": "stream",
     "text": [
      "[[12]]\n",
      "[[12]]\n"
     ]
    }
   ],
   "source": [
    "matrix1 = tf.constant([[3,3]])\n",
    "matrix2 = tf.constant([[2],[2]])\n",
    "\n",
    "product = tf.matmul(matrix1, matrix2)    # matrix multiply np.dot(m1,m2)\n",
    "\n",
    "# method 1\n",
    "sess = tf.Session()\n",
    "result = sess.run(product)\n",
    "print(result)\n",
    "sess.close()\n",
    "\n",
    "# method 2\n",
    "with tf.Session() as sess:\n",
    "    result2 = sess.run(product)\n",
    "    print(result2)"
   ]
  },
  {
   "cell_type": "markdown",
   "metadata": {},
   "source": [
    "# Tensorflow 7 Variable"
   ]
  },
  {
   "cell_type": "code",
   "execution_count": 2,
   "metadata": {
    "collapsed": true
   },
   "outputs": [],
   "source": [
    "import tensorflow as tf"
   ]
  },
  {
   "cell_type": "code",
   "execution_count": 2,
   "metadata": {},
   "outputs": [
    {
     "name": "stdout",
     "output_type": "stream",
     "text": [
      "counter:0\n",
      "1\n",
      "2\n",
      "3\n"
     ]
    }
   ],
   "source": [
    "state = tf.Variable(0, name='counter')\n",
    "print(state.name)\n",
    "one = tf.constant(1)\n",
    "\n",
    "new_value = tf.add(state , one)\n",
    "update = tf.assign(state , new_value)\n",
    "\n",
    "init = tf.global_variables_initializer()  # must have if define variable\n",
    "\n",
    "with tf.Session() as sess:\n",
    "    sess.run(init)\n",
    "    for _ in range(3):\n",
    "        sess.run(update)\n",
    "        print(sess.run(state))"
   ]
  },
  {
   "cell_type": "markdown",
   "metadata": {},
   "source": [
    "# Tensorflow 8 Placeholder"
   ]
  },
  {
   "cell_type": "code",
   "execution_count": 8,
   "metadata": {
    "collapsed": true
   },
   "outputs": [],
   "source": [
    "import tensorflow as tf\n",
    "import numpy as np"
   ]
  },
  {
   "cell_type": "code",
   "execution_count": 26,
   "metadata": {},
   "outputs": [
    {
     "name": "stdout",
     "output_type": "stream",
     "text": [
      "[[ 14.   8.   4.]]\n"
     ]
    }
   ],
   "source": [
    "input1 = tf.placeholder(tf.float32)\n",
    "input2 = tf.placeholder(tf.float32, shape = (1,3))\n",
    "\n",
    "output = tf.multiply(input1 , input2)\n",
    "\n",
    "\n",
    "with tf.Session() as sess:\n",
    "    print(sess.run(output, feed_dict = {input1:[2.],input2:[[7.,4.,2.]]}))"
   ]
  },
  {
   "cell_type": "markdown",
   "metadata": {},
   "source": [
    "# Tensorflow 10 def add_layer"
   ]
  },
  {
   "cell_type": "code",
   "execution_count": 1,
   "metadata": {
    "collapsed": true
   },
   "outputs": [],
   "source": [
    "import tensorflow as tf"
   ]
  },
  {
   "cell_type": "code",
   "execution_count": 3,
   "metadata": {
    "collapsed": true
   },
   "outputs": [],
   "source": [
    " def add_layer(inputs, in_size, out_size, activation_funtion=None):\n",
    "        Weights = tf.Variable( tf.random_normal( [in_size,out_size] ) )\n",
    "        biases = tf.Variable( tf.zeros( [1,out_size] ) + 0.1 )\n",
    "        Wx_plus_b = tf.matmul( inputs,Weights ) + biases\n",
    "        if activation_funtion is None:\n",
    "            outputs = Wx_plus_b\n",
    "        else:\n",
    "            outputs = activation_funtion( Wx_plus_b )\n",
    "        return outputs"
   ]
  },
  {
   "cell_type": "markdown",
   "metadata": {},
   "source": [
    "# Tensorflow 11 build a neural network"
   ]
  },
  {
   "cell_type": "code",
   "execution_count": 1,
   "metadata": {
    "collapsed": true
   },
   "outputs": [],
   "source": [
    "import tensorflow as tf\n",
    "import numpy as np"
   ]
  },
  {
   "cell_type": "code",
   "execution_count": 2,
   "metadata": {
    "collapsed": true
   },
   "outputs": [],
   "source": [
    " def add_layer(inputs, in_size, out_size, activation_funtion=None):\n",
    "        Weights = tf.Variable( tf.random_normal( [in_size,out_size] ) )\n",
    "        biases = tf.Variable( tf.zeros( [1,out_size] ) + 0.1 )\n",
    "        Wx_plus_b = tf.matmul( inputs,Weights ) + biases\n",
    "        if activation_funtion is None:\n",
    "            outputs = Wx_plus_b\n",
    "        else:\n",
    "            outputs = activation_funtion( Wx_plus_b )\n",
    "        return outputs"
   ]
  },
  {
   "cell_type": "code",
   "execution_count": 14,
   "metadata": {
    "collapsed": true
   },
   "outputs": [],
   "source": [
    "x_data = np.linspace( -1,1,300 )[:,np.newaxis]\n",
    "noise = np.random.normal( 0,0.05,x_data.shape )\n",
    "y_data = np.square( x_data ) - 0.5 + noise"
   ]
  },
  {
   "cell_type": "code",
   "execution_count": 15,
   "metadata": {},
   "outputs": [
    {
     "name": "stdout",
     "output_type": "stream",
     "text": [
      "0.461601\n",
      "0.0120344\n",
      "0.00790422\n",
      "0.00604386\n",
      "0.0050218\n",
      "0.00450687\n",
      "0.00421083\n",
      "0.00398839\n",
      "0.00381866\n",
      "0.00365744\n",
      "0.00352286\n",
      "0.00343137\n",
      "0.00335766\n",
      "0.00329151\n",
      "0.00323591\n",
      "0.00319109\n",
      "0.00315392\n",
      "0.00312234\n",
      "0.00309026\n",
      "0.00305456\n"
     ]
    }
   ],
   "source": [
    "xs = tf.placeholder( tf.float32,[None,1] )\n",
    "ys = tf.placeholder( tf.float32,[None,1] )\n",
    "\n",
    "l1 = add_layer( xs,1,10,activation_funtion=tf.nn.relu )\n",
    "prediction = add_layer( l1,10,1 )\n",
    "\n",
    "loss = tf.reduce_mean( tf.reduce_sum( tf.square( ys - prediction ),reduction_indices=[1] ) )\n",
    "train_step = tf.train.GradientDescentOptimizer( 0.1 ).minimize( loss )\n",
    "\n",
    "init = tf.global_variables_initializer()\n",
    "\n",
    "sess = tf.Session()\n",
    "sess.run( init )\n",
    "\n",
    "for i in range(1000):\n",
    "    sess.run( train_step,feed_dict={xs:x_data,ys:y_data})\n",
    "    if i % 50 == 0:\n",
    "        print(sess.run( loss,feed_dict={xs:x_data,ys:y_data}))"
   ]
  },
  {
   "cell_type": "markdown",
   "metadata": {},
   "source": [
    "# Tensorflow 12 plot result"
   ]
  },
  {
   "cell_type": "code",
   "execution_count": 24,
   "metadata": {
    "collapsed": true
   },
   "outputs": [],
   "source": [
    "import tensorflow as tf\n",
    "import numpy as np\n",
    "import matplotlib.pyplot as plt"
   ]
  },
  {
   "cell_type": "code",
   "execution_count": 25,
   "metadata": {
    "collapsed": true
   },
   "outputs": [],
   "source": [
    "def add_layer(inputs, in_size, out_size, activation_funtion=None):\n",
    "        Weights = tf.Variable( tf.random_normal( [in_size,out_size] ) )\n",
    "        biases = tf.Variable( tf.zeros( [1,out_size] ) + 0.1 )\n",
    "        Wx_plus_b = tf.matmul( inputs,Weights ) + biases\n",
    "        if activation_funtion is None:\n",
    "            outputs = Wx_plus_b\n",
    "        else:\n",
    "            outputs = activation_funtion( Wx_plus_b )\n",
    "        return outputs"
   ]
  },
  {
   "cell_type": "code",
   "execution_count": 26,
   "metadata": {
    "collapsed": true
   },
   "outputs": [],
   "source": [
    "x_data = np.linspace( -1,1,300 )[:,np.newaxis]\n",
    "noise = np.random.normal( 0,0.05,x_data.shape )\n",
    "y_data = np.square( x_data ) - 0.5 + noise"
   ]
  },
  {
   "cell_type": "code",
   "execution_count": 29,
   "metadata": {},
   "outputs": [
    {
     "data": {
      "image/png": "[encoded data removed]",
      "text/plain": [
       "<matplotlib.figure.Figure at 0xcc7fb00>"
      ]
     },
     "metadata": {},
     "output_type": "display_data"
    }
   ],
   "source": [
    "xs = tf.placeholder( tf.float32,[None,1] )\n",
    "ys = tf.placeholder( tf.float32,[None,1] )\n",
    "\n",
    "l1 = add_layer( xs,1,10,activation_funtion=tf.nn.relu )\n",
    "prediction = add_layer( l1,10,1 )\n",
    "\n",
    "loss = tf.reduce_mean( tf.reduce_sum( tf.square( ys - prediction ),reduction_indices=[1] ) )\n",
    "train_step = tf.train.GradientDescentOptimizer( 0.1 ).minimize( loss )\n",
    "\n",
    "init = tf.global_variables_initializer()\n",
    "\n",
    "sess = tf.Session()\n",
    "sess.run( init )\n",
    "\n",
    "fig = plt.figure()\n",
    "ax = fig.add_subplot(1,1,1)\n",
    "ax.scatter( x_data,y_data )\n",
    "plt.ion()\n",
    "#plt.show()\n",
    "\n",
    "for i in range(1000):\n",
    "    sess.run( train_step,feed_dict={xs:x_data,ys:y_data})\n",
    "    if i % 50 == 0:\n",
    "        try:\n",
    "            ax.lines.remove(lines[0])\n",
    "        except Exception:\n",
    "            pass\n",
    "        prediction_value = sess.run( prediction,feed_dict={xs:x_data} )\n",
    "        lines = ax.plot( x_data,prediction_value,'r-',lw=5 )\n",
    "        plt.pause(0.1)"
   ]
  },
  {
   "cell_type": "markdown",
   "metadata": {},
   "source": [
    "# Tensorflow 13 optimizer"
   ]
  },
  {
   "cell_type": "code",
   "execution_count": 31,
   "metadata": {
    "collapsed": true
   },
   "outputs": [],
   "source": [
    "import tensorflow as tf\n",
    "import numpy as np"
   ]
  },
  {
   "cell_type": "code",
   "execution_count": null,
   "metadata": {
    "collapsed": true
   },
   "outputs": [],
   "source": [
    "tf.train.GradientDescentOptimizer()\n",
    "tf.train.MomentumOptimizer()\n",
    "tf.train.AdamOptimizer"
   ]
  },
  {
   "cell_type": "markdown",
   "metadata": {},
   "source": [
    "# Tensorflow 14 Tensorboard"
   ]
  },
  {
   "cell_type": "code",
   "execution_count": 1,
   "metadata": {
    "collapsed": true
   },
   "outputs": [],
   "source": [
    "import tensorflow as tf\n",
    "import numpy as np"
   ]
  },
  {
   "cell_type": "code",
   "execution_count": 2,
   "metadata": {
    "collapsed": true
   },
   "outputs": [],
   "source": [
    "def add_layer(inputs, in_size, out_size, n_layer, activation_funtion=None):\n",
    "    # add one more layer and return the output of this layer\n",
    "    layer_name = 'layer%s' % n_layer\n",
    "    with tf.name_scope(layer_name):\n",
    "        with tf.name_scope('weights'):\n",
    "            Weights = tf.Variable( tf.random_normal( [in_size,out_size] ),name='W' )\n",
    "            tf.summary.histogram(layer_name+'/weight',Weights)\n",
    "        with tf.name_scope('biases'):\n",
    "            biases = tf.Variable( tf.zeros( [1,out_size] ) + 0.1,name='b' )\n",
    "            tf.summary.histogram(layer_name+'/biases',biases)\n",
    "        with tf.name_scope('Wx_plus_b'):\n",
    "            Wx_plus_b = tf.matmul( inputs,Weights ) + biases\n",
    "        if activation_funtion is None:\n",
    "            outputs = Wx_plus_b\n",
    "        else:\n",
    "            outputs = activation_funtion( Wx_plus_b )\n",
    "        tf.summary.histogram(layer_name+'/outputs',outputs )\n",
    "        return outputs"
   ]
  },
  {
   "cell_type": "code",
   "execution_count": 3,
   "metadata": {
    "collapsed": true
   },
   "outputs": [],
   "source": [
    "x_data = np.linspace( -1,1,300 )[:,np.newaxis]\n",
    "noise = np.random.normal( 0,0.05,x_data.shape )\n",
    "y_data = np.square( x_data ) - 0.5 + noise"
   ]
  },
  {
   "cell_type": "code",
   "execution_count": 4,
   "metadata": {
    "collapsed": true
   },
   "outputs": [],
   "source": [
    "# define placeholder for inputs to network\n",
    "with tf.name_scope('inputs'):\n",
    "    xs = tf.placeholder( tf.float32,[None,1],name='x_input' )\n",
    "    ys = tf.placeholder( tf.float32,[None,1],name='y_input' )\n",
    "\n",
    "# add hidden layer\n",
    "\n",
    "l1 = add_layer( xs,1,10,n_layer=1,activation_funtion=tf.nn.relu )\n",
    "# add output layer\n",
    "prediction = add_layer( l1,10,1,n_layer=2 )\n",
    "\n",
    "# the error between prediction and real data\n",
    "with tf.name_scope( 'loss' ):\n",
    "    loss = tf.reduce_mean( tf.reduce_sum( tf.square( ys - prediction ),reduction_indices=[1] ) )\n",
    "    tf.summary.scalar( 'loss',loss )\n",
    "with tf.name_scope( 'train' ):\n",
    "    train_step = tf.train.GradientDescentOptimizer( 0.1 ).minimize( loss )\n",
    "\n",
    "sess = tf.Session()\n",
    "merged = tf.summary.merge_all()\n",
    "writer = tf.summary.FileWriter( \"logs/\",sess.graph )\n",
    "# important step\n",
    "sess.run( tf.global_variables_initializer() )\n",
    "\n",
    "for i in range(1000):\n",
    "    sess.run( train_step,feed_dict={xs:x_data,ys:y_data} )\n",
    "    if i % 50 == 0:\n",
    "        result = sess.run( merged,feed_dict={xs:x_data,ys:y_data} )\n",
    "        writer.add_summary( result,i )\n",
    "# Finally, using the tensorboard to draw the figure of the network\n",
    "# example: 'tensorboard --logdir='logs/'"
   ]
  },
  {
   "cell_type": "markdown",
   "metadata": {},
   "source": [
    "# Tensorflow 16 Classification"
   ]
  },
  {
   "cell_type": "code",
   "execution_count": 1,
   "metadata": {
    "collapsed": true
   },
   "outputs": [],
   "source": [
    "import tensorflow as tf\n",
    "from tensorflow.examples.tutorials.mnist import input_data\n",
    "import numpy as np"
   ]
  },
  {
   "cell_type": "code",
   "execution_count": 2,
   "metadata": {
    "collapsed": true
   },
   "outputs": [],
   "source": [
    "def add_layer(inputs, in_size, out_size, activation_funtion=None):\n",
    "    # add one more layer and return the output of this layer\n",
    "    Weights = tf.Variable( tf.random_normal( [in_size,out_size] ),name='W' )\n",
    "    biases = tf.Variable( tf.zeros( [1,out_size] ) + 0.1,name='b' )\n",
    "    Wx_plus_b = tf.matmul( inputs,Weights ) + biases\n",
    "    if activation_funtion is None:\n",
    "        outputs = Wx_plus_b\n",
    "    else:\n",
    "        outputs = activation_funtion( Wx_plus_b )\n",
    "    return outputs"
   ]
  },
  {
   "cell_type": "code",
   "execution_count": 7,
   "metadata": {
    "collapsed": true
   },
   "outputs": [],
   "source": [
    "def compute_accuracy(v_xs, v_ys):\n",
    "    global prediction\n",
    "    y_pre = sess.run(prediction,feed_dict={xs:v_xs})\n",
    "    correct_prediction = tf.equal(tf.argmax(y_pre,1),tf.argmax(v_ys,1))\n",
    "    accuracy = tf.reduce_mean(tf.cast(correct_prediction,tf.float32))\n",
    "    result = sess.run(accuracy,feed_dict={xs:v_xs , ys:v_ys})\n",
    "    return result"
   ]
  },
  {
   "cell_type": "code",
   "execution_count": 4,
   "metadata": {},
   "outputs": [
    {
     "name": "stdout",
     "output_type": "stream",
     "text": [
      "Extracting MNIST_data\\train-images-idx3-ubyte.gz\n",
      "Extracting MNIST_data\\train-labels-idx1-ubyte.gz\n",
      "Extracting MNIST_data\\t10k-images-idx3-ubyte.gz\n",
      "Extracting MNIST_data\\t10k-labels-idx1-ubyte.gz\n"
     ]
    }
   ],
   "source": [
    "mnist = input_data.read_data_sets('MNIST_data',one_hot=True)"
   ]
  },
  {
   "cell_type": "code",
   "execution_count": 8,
   "metadata": {},
   "outputs": [
    {
     "name": "stdout",
     "output_type": "stream",
     "text": [
      "0.138\n",
      "0.6479\n",
      "0.7471\n",
      "0.7894\n",
      "0.8068\n",
      "0.821\n",
      "0.8303\n",
      "0.8415\n",
      "0.846\n",
      "0.8495\n",
      "0.855\n",
      "0.8585\n",
      "0.8565\n",
      "0.8653\n",
      "0.8628\n",
      "0.8669\n",
      "0.8689\n",
      "0.8744\n",
      "0.8754\n",
      "0.8744\n"
     ]
    }
   ],
   "source": [
    "xs = tf.placeholder( tf.float32,[None,784] )\n",
    "ys = tf.placeholder( tf.float32,[None,10] )\n",
    "\n",
    "prediction = add_layer( xs,784,10,activation_funtion=tf.nn.softmax )\n",
    "\n",
    "cross_entropy = tf.reduce_mean(-tf.reduce_sum(ys*tf.log(prediction)\n",
    "                                              ,reduction_indices=[1]))\n",
    "train_step = tf.train.GradientDescentOptimizer(0.5).minimize(cross_entropy)\n",
    "\n",
    "sess = tf.Session()\n",
    "sess.run(tf.global_variables_initializer())\n",
    "\n",
    "for i in range(1000):\n",
    "    batch_xs,batch_ys = mnist.train.next_batch(100)\n",
    "    sess.run( train_step,feed_dict={xs:batch_xs , ys:batch_ys})\n",
    "    if i % 50 == 0:\n",
    "        print(compute_accuracy(mnist.test.images,mnist.test.labels))"
   ]
  },
  {
   "cell_type": "markdown",
   "metadata": {},
   "source": [
    "# Tensorflow 17 dropout"
   ]
  },
  {
   "cell_type": "code",
   "execution_count": 1,
   "metadata": {},
   "outputs": [
    {
     "name": "stderr",
     "output_type": "stream",
     "text": [
      "D:\\Anaconda3\\lib\\site-packages\\sklearn\\cross_validation.py:44: DeprecationWarning: This module was deprecated in version 0.18 in favor of the model_selection module into which all the refactored classes and functions are moved. Also note that the interface of the new CV iterators are different from that of this module. This module will be removed in 0.20.\n",
      "  \"This module will be removed in 0.20.\", DeprecationWarning)\n"
     ]
    }
   ],
   "source": [
    "import tensorflow as tf\n",
    "from sklearn.datasets import load_digits\n",
    "from sklearn.cross_validation import train_test_split\n",
    "from sklearn.preprocessing import LabelBinarizer\n",
    "import numpy as np"
   ]
  },
  {
   "cell_type": "code",
   "execution_count": 2,
   "metadata": {
    "collapsed": true
   },
   "outputs": [],
   "source": [
    "def add_layer(inputs, in_size, out_size, layer_name, keep_prod, activation_funtion=None):\n",
    "    # add one more layer and return the output of this layer\n",
    "    Weights = tf.Variable( tf.random_normal( [in_size,out_size] ),name='W' )\n",
    "    biases = tf.Variable( tf.zeros( [1,out_size] ) + 0.1,name='b' )\n",
    "    Wx_plus_b = tf.matmul( inputs,Weights ) + biases\n",
    "    Wx_plus_b = tf.nn.dropout(Wx_plus_b,keep_prod)\n",
    "    if activation_funtion is None:\n",
    "        outputs = Wx_plus_b\n",
    "    else:\n",
    "        outputs = activation_funtion( Wx_plus_b )\n",
    "    tf.summary.histogram(layer_name+'/outputs',outputs )\n",
    "    return outputs"
   ]
  },
  {
   "cell_type": "code",
   "execution_count": 3,
   "metadata": {
    "collapsed": true
   },
   "outputs": [],
   "source": [
    "digits = load_digits()\n",
    "X = digits.data\n",
    "y = digits.target\n",
    "y = LabelBinarizer().fit_transform(y)\n",
    "X_train,X_test,y_train,y_test = train_test_split(X,y,test_size=.3)"
   ]
  },
  {
   "cell_type": "code",
   "execution_count": 4,
   "metadata": {
    "collapsed": true
   },
   "outputs": [],
   "source": [
    "keep_prod = tf.placeholder( tf.float32 )\n",
    "xs = tf.placeholder( tf.float32,[None,64] )\n",
    "ys = tf.placeholder( tf.float32,[None,10] )\n",
    "\n",
    "l1 = add_layer( xs,64,50,'l1',keep_prod,activation_funtion=tf.nn.tanh)\n",
    "prediction = add_layer( l1,50,10,'l2',keep_prod,activation_funtion=tf.nn.softmax )\n",
    "\n",
    "cross_entropy = tf.reduce_mean(-tf.reduce_sum(ys*tf.log(prediction)\n",
    "                                              ,reduction_indices=[1]))\n",
    "tf.summary.scalar('loss',cross_entropy)\n",
    "train_step = tf.train.GradientDescentOptimizer(0.6).minimize(cross_entropy)\n",
    "\n",
    "sess = tf.Session()\n",
    "merged = tf.summary.merge_all()\n",
    "\n",
    "train_writer = tf.summary.FileWriter( \"logs/train\",sess.graph )\n",
    "test_writer = tf.summary.FileWriter( \"logs/test\",sess.graph )\n",
    "\n",
    "sess.run(tf.global_variables_initializer())\n",
    "\n",
    "for i in range(500):\n",
    "    sess.run( train_step,feed_dict={xs:X_train , ys:y_train,keep_prod:0.5} )\n",
    "    if i % 50 == 0:\n",
    "        train_result = sess.run( merged,feed_dict={xs:X_train , ys:y_train , keep_prod:1} )\n",
    "        test_result = sess.run( merged,feed_dict={xs:X_test , ys:y_test , keep_prod:1} )\n",
    "        \n",
    "        train_writer.add_summary( train_result,i )\n",
    "        test_writer.add_summary( test_result,i )"
   ]
  },
  {
   "cell_type": "markdown",
   "metadata": {},
   "source": [
    "# CNN"
   ]
  },
  {
   "cell_type": "code",
   "execution_count": 12,
   "metadata": {
    "collapsed": true
   },
   "outputs": [],
   "source": [
    "import tensorflow as tf\n",
    "from tensorflow.examples.tutorials.mnist import input_data\n",
    "import numpy as np"
   ]
  },
  {
   "cell_type": "code",
   "execution_count": 13,
   "metadata": {
    "collapsed": true
   },
   "outputs": [],
   "source": [
    "def compute_accuracy(v_xs, v_ys):\n",
    "    global prediction\n",
    "    y_pre = sess.run(prediction,feed_dict={xs:v_xs,keep_prod:1})\n",
    "    correct_prediction = tf.equal(tf.argmax(y_pre,1),tf.argmax(v_ys,1))\n",
    "    accuracy = tf.reduce_mean(tf.cast(correct_prediction,tf.float32))\n",
    "    result = sess.run(accuracy,feed_dict={xs:v_xs , ys:v_ys})\n",
    "    return result"
   ]
  },
  {
   "cell_type": "code",
   "execution_count": 14,
   "metadata": {
    "collapsed": true
   },
   "outputs": [],
   "source": [
    "def weight_variable(shape):\n",
    "    inital = tf.truncated_normal(shape,stddev=0.1)\n",
    "    return tf.Variable(inital)"
   ]
  },
  {
   "cell_type": "code",
   "execution_count": 15,
   "metadata": {
    "collapsed": true
   },
   "outputs": [],
   "source": [
    "def bias_variable(shape):\n",
    "    inital = tf.constant(0.1,shape=shape)\n",
    "    return tf.Variable(inital)"
   ]
  },
  {
   "cell_type": "code",
   "execution_count": 16,
   "metadata": {
    "collapsed": true
   },
   "outputs": [],
   "source": [
    "def conv2d(x,W):\n",
    "    # strides [1, x_movement, y_movement, 1]\n",
    "    # Must have strides[0]=strides[4]=1\n",
    "    return tf.nn.conv2d(x,W,strides=[1,1,1,1],padding='SAME' ) "
   ]
  },
  {
   "cell_type": "code",
   "execution_count": 17,
   "metadata": {
    "collapsed": true
   },
   "outputs": [],
   "source": [
    "def max_pool_2x2(x):\n",
    "    # strides [1, x_movement, y_movement, 1]\n",
    "    return tf.nn.max_pool(x,ksize=[1,2,2,1],strides=[1,2,2,1],padding='SAME')"
   ]
  },
  {
   "cell_type": "code",
   "execution_count": 18,
   "metadata": {},
   "outputs": [
    {
     "name": "stdout",
     "output_type": "stream",
     "text": [
      "Extracting MNIST_data\\train-images-idx3-ubyte.gz\n",
      "Extracting MNIST_data\\train-labels-idx1-ubyte.gz\n",
      "Extracting MNIST_data\\t10k-images-idx3-ubyte.gz\n",
      "Extracting MNIST_data\\t10k-labels-idx1-ubyte.gz\n"
     ]
    }
   ],
   "source": [
    "mnist = input_data.read_data_sets( 'MNIST_data',one_hot=True )"
   ]
  },
  {
   "cell_type": "code",
   "execution_count": 20,
   "metadata": {
    "collapsed": true
   },
   "outputs": [
    {
     "name": "stdout",
     "output_type": "stream",
     "text": [
      "0.1073\n",
      "0.4297\n",
      "0.6687\n",
      "0.7587\n",
      "0.8139\n",
      "0.8429\n",
      "0.8642\n",
      "0.8804\n",
      "0.89\n",
      "0.8969\n",
      "0.9063\n",
      "0.9136\n",
      "0.9142\n",
      "0.9239\n",
      "0.9223\n",
      "0.9268\n",
      "0.9304\n",
      "0.9342\n",
      "0.9357\n",
      "0.9383\n"
     ]
    }
   ],
   "source": [
    "xs = tf.placeholder( tf.float32,[None,784] )\n",
    "ys = tf.placeholder( tf.float32,[None,10] )\n",
    "keep_prod = tf.placeholder( tf.float32 )\n",
    "x_image = tf.reshape( xs,[-1,28,28,1]) # [num,width,length,channel]\n",
    "# print(x_image.shape) # [n_sameples,28,28,1]\n",
    "\n",
    "# conv1 layer\n",
    "W_conv1 = weight_variable( [5,5,1,4] )# patch 5x5, in size 1, out size 4\n",
    "b_conv1 = bias_variable( [4] )\n",
    "h_conv1 = tf.nn.relu( conv2d( x_image,W_conv1 ) + b_conv1 )# output size is 28x28x4\n",
    "h_pool1 = max_pool_2x2( h_conv1 )                          # output size is 14x14x4\n",
    "\n",
    "# conv2 layer\n",
    "W_conv2 = weight_variable( [5,5,4,8] )# patch 5x5, in size 4, out size 8\n",
    "b_conv2 = bias_variable( [8] )\n",
    "h_conv2 = tf.nn.relu( conv2d( h_pool1,W_conv2 ) + b_conv2 )# output size is 14x14x8\n",
    "h_pool2 = max_pool_2x2( h_conv2 )                          # output size is 7x7x8\n",
    "\n",
    "# func1 layer\n",
    "W_fcl = weight_variable( [7*7*8,1024] )\n",
    "b_fc1 = bias_variable( [1024] )\n",
    "h_pool2_flat = tf.reshape( h_pool2,[-1,7*7*8] )# [n_sample,7,7,64]->>[n_sample,7*7*64]\n",
    "h_fc1 = tf.nn.relu( tf.matmul( h_pool2_flat,W_fcl ) + b_fc1 )\n",
    "h_fc1_drop = tf.nn.dropout( h_fc1,keep_prod )\n",
    "\n",
    "# func2 layer\n",
    "W_fc2 = weight_variable( [1024,10] )\n",
    "b_fc2 = bias_variable( [10] )\n",
    "prediction = tf.nn.softmax( tf.matmul( h_fc1_drop,W_fc2 ) + b_fc2 )\n",
    "\n",
    "cross_entroy = tf.reduce_mean( -tf.reduce_sum(ys * tf.log(prediction),reduction_indices=[1]))\n",
    "train_step = tf.train.AdamOptimizer(1e-4).minimize(cross_entroy)\n",
    "\n",
    "sess = tf.Session()\n",
    "sess.run( tf.global_variables_initializer() )\n",
    "\n",
    "for i in range(1000):\n",
    "    batch_xs,batch_ys = mnist.train.next_batch(100)\n",
    "    sess.run( train_step,feed_dict={xs:batch_xs , ys:batch_ys , keep_prod:0.5} )\n",
    "    if i % 50 == 0:\n",
    "        print(compute_accuracy( mnist.test.images , mnist.test.labels ))"
   ]
  },
  {
   "cell_type": "markdown",
   "metadata": {
    "collapsed": true
   },
   "source": [
    "# Tensorflow 19 Saver"
   ]
  },
  {
   "cell_type": "code",
   "execution_count": 1,
   "metadata": {
    "collapsed": true
   },
   "outputs": [],
   "source": [
    "import tensorflow as tf\n",
    "import numpy as np"
   ]
  },
  {
   "cell_type": "code",
   "execution_count": 2,
   "metadata": {},
   "outputs": [
    {
     "name": "stdout",
     "output_type": "stream",
     "text": [
      "Save to paht:  my_net/save_net.ckpt\n"
     ]
    }
   ],
   "source": [
    "# Save to file\n",
    "# remember to define the same dtype and shape when restore\n",
    "W = tf.Variable( [[1,2,3],[3,4,5]],dtype=tf.float32,name='weights' )\n",
    "b = tf.Variable( [[1,2,3]],dtype=tf.float32,name='biases' )\n",
    "\n",
    "init = tf.global_variables_initializer()\n",
    "\n",
    "saver = tf.train.Saver()\n",
    "\n",
    "with tf.Session() as sess:\n",
    "    sess.run(init)\n",
    "    save_path = saver.save(sess,\"my_net/save_net.ckpt\")\n",
    "    print(\"Save to paht: \",save_path)"
   ]
  },
  {
   "cell_type": "code",
   "execution_count": 2,
   "metadata": {
    "scrolled": false
   },
   "outputs": [
    {
     "name": "stdout",
     "output_type": "stream",
     "text": [
      "INFO:tensorflow:Restoring parameters from my_net/save_net.ckpt\n",
      "weight:  [[ 1.  2.  3.]\n",
      " [ 3.  4.  5.]]\n",
      "biases:  [[ 1.  2.  3.]]\n"
     ]
    }
   ],
   "source": [
    "# restore variables\n",
    "# redefine the same shape and same dtype for your variable\n",
    "W = tf.Variable( np.arange(6).reshape((2,3)),dtype=tf.float32,name=\"weights\" )\n",
    "b = tf.Variable( np.arange(3).reshape((1,3)),dtype=tf.float32,name=\"biases\" )\n",
    "\n",
    "# not need init step\n",
    "saver = tf.train.Saver()\n",
    "with tf.Session() as sess:\n",
    "    saver.restore( sess,\"my_net/save_net.ckpt\" )\n",
    "    print( \"weight: \",sess.run(W) )\n",
    "    print( \"biases: \",sess.run(b) )"
   ]
  },
  {
   "cell_type": "markdown",
   "metadata": {
    "collapsed": true
   },
   "source": [
    "# Tensorflow 20 RNN"
   ]
  },
  {
   "cell_type": "code",
   "execution_count": 1,
   "metadata": {
    "collapsed": true
   },
   "outputs": [],
   "source": [
    "import tensorflow as tf\n",
    "from tensorflow.examples.tutorials.mnist import input_data\n",
    "import numpy as py"
   ]
  },
  {
   "cell_type": "code",
   "execution_count": 2,
   "metadata": {},
   "outputs": [
    {
     "name": "stdout",
     "output_type": "stream",
     "text": [
      "Extracting MNIST_data\\train-images-idx3-ubyte.gz\n",
      "Extracting MNIST_data\\train-labels-idx1-ubyte.gz\n",
      "Extracting MNIST_data\\t10k-images-idx3-ubyte.gz\n",
      "Extracting MNIST_data\\t10k-labels-idx1-ubyte.gz\n"
     ]
    }
   ],
   "source": [
    "# set data\n",
    "mnist = input_data.read_data_sets( 'MNIST_data',one_hot=True )\n",
    "\n",
    "# hyperparameters\n",
    "lr = 0.6\n",
    "training_iters = 100000\n",
    "batch_size = 100\n",
    "\n",
    "n_inputs = 28\n",
    "n_steps = 28\n",
    "n_hidden_unis = 128\n",
    "n_classes = 10\n"
   ]
  },
  {
   "cell_type": "code",
   "execution_count": 3,
   "metadata": {
    "collapsed": true
   },
   "outputs": [],
   "source": [
    "# tf Graph input\n",
    "x = tf.placeholder( tf.float32,[None,n_steps,n_inputs] )\n",
    "y = tf.placeholder( tf.float32,[None,n_classes] )\n",
    "\n",
    "# Define weights\n",
    "weights = {'in':tf.Variable( tf.random_normal([n_inputs,n_hidden_unis]) ),\n",
    "           'out':tf.Variable( tf.random_normal([n_hidden_unis,n_classes]) )}\n",
    "biases = {'in':tf.Variable( tf.constant(0.1,shape=[n_hidden_unis,]) ),\n",
    "          'out':tf.Variable( tf.constant(0.1,shape=[n_classes,]) )}"
   ]
  },
  {
   "cell_type": "code",
   "execution_count": 4,
   "metadata": {
    "collapsed": true
   },
   "outputs": [],
   "source": [
    "def RNN(X, weights, biases):\n",
    "    # hidden layer for input to cell\n",
    "    X = tf.reshape(X,[-1,n_inputs])\n",
    "    X_in = tf.matmul(X,weights['in']) + biases['in']\n",
    "    X_in = tf.reshape(X_in,[-1,n_steps,n_hidden_unis])\n",
    "    \n",
    "    # cell\n",
    "    lstm_cell = tf.nn.rnn_cell.BasicLSTMCell(n_hidden_unis,forget_bias=1.0,state_is_tuple=True)\n",
    "    # lstm cell is divided into two parts(c_state,m_state)\n",
    "    _init_state = lstm_cell.zero_state(batch_size,dtype=tf.float32)\n",
    "    \n",
    "    # if time is the first dim of X_in, time_major=True\n",
    "    outputs,states = tf.nn.dynamic_rnn(lstm_cell,X_in,initial_state=_init_state,time_major=False)\n",
    "    \n",
    "    # hidden layer for output as the final results\n",
    "    #results = tf.matmul(states[1],weights['out']) + biases['out']\n",
    "    # or\n",
    "    outputs = tf.unstack(tf.transpose(outputs,[1,0,2]))\n",
    "    results = tf.matmul(outputs[-1],weights['out']) + biases['out']\n",
    "    \n",
    "    return results"
   ]
  },
  {
   "cell_type": "code",
   "execution_count": 5,
   "metadata": {
    "collapsed": true
   },
   "outputs": [
    {
     "name": "stdout",
     "output_type": "stream",
     "text": [
      "0.106399999484\n",
      "0.468199997544\n",
      "0.568599997759\n",
      "0.669500001669\n",
      "0.719299999475\n",
      "0.775399998426\n",
      "0.767799999714\n",
      "0.725400001407\n",
      "0.818799999952\n",
      "0.794799997807\n",
      "0.840699997544\n",
      "0.831599997282\n",
      "0.83539999783\n",
      "0.828099996448\n",
      "0.84720000267\n",
      "0.862300000787\n",
      "0.734700000286\n",
      "0.86279999733\n",
      "0.869900000095\n",
      "0.877300004363\n",
      "0.881899998784\n",
      "0.862299997211\n",
      "0.882199998498\n",
      "0.883200002909\n",
      "0.896800000072\n",
      "0.881100000143\n",
      "0.896600000858\n",
      "0.884499998093\n",
      "0.888700000644\n",
      "0.883700000048\n",
      "0.900800001621\n",
      "0.902899997234\n",
      "0.900700000525\n",
      "0.905800001621\n",
      "0.913000004888\n",
      "0.902200003266\n",
      "0.896099999547\n",
      "0.908300004005\n",
      "0.900200001597\n",
      "0.908200001121\n",
      "0.917000003457\n",
      "0.910100002289\n",
      "0.89469999969\n",
      "0.91210000217\n",
      "0.922099999785\n",
      "0.915600003004\n",
      "0.928000003099\n",
      "0.919800000191\n",
      "0.929700002074\n",
      "0.924799999595\n"
     ]
    }
   ],
   "source": [
    "pred = RNN( x,weights,biases )\n",
    "cost = tf.reduce_mean( tf.nn.softmax_cross_entropy_with_logits( labels=y , logits=pred ) )\n",
    "train_op = tf.train.GradientDescentOptimizer(lr).minimize(cost)\n",
    "\n",
    "correct_pred = tf.equal( tf.argmax(pred,1),tf.argmax(y,1) )\n",
    "accuracy = tf.reduce_mean( tf.cast(correct_pred,tf.float32) )\n",
    "\n",
    "init = tf.global_variables_initializer()\n",
    "\n",
    "with tf.Session() as sess:\n",
    "    sess.run(init)\n",
    "    step = 0\n",
    "    while step * batch_size < training_iters:\n",
    "        batch_xs,batch_ys = mnist.train.next_batch(batch_size)\n",
    "        batch_xs = batch_xs.reshape([batch_size,n_steps,n_inputs])\n",
    "        sess.run(train_op,feed_dict={x:batch_xs , y:batch_ys})\n",
    "        if step % 20 == 0:\n",
    "            acc = 0\n",
    "            for _ in range(int(10000/batch_size)):\n",
    "                test_xs,test_ys = mnist.test.next_batch(batch_size)\n",
    "                test_xs = test_xs.reshape([batch_size,n_steps,n_inputs])\n",
    "                acc = acc + sess.run(accuracy,feed_dict={x:test_xs , y:test_ys })*batch_size\n",
    "            print(acc/10000)\n",
    "            #print(sess.run(accuracy,feed_dict={x:batch_xs , y:batch_ys }))\n",
    "        step += 1"
   ]
  },
  {
   "cell_type": "markdown",
   "metadata": {
    "collapsed": true
   },
   "source": [
    "# Tensorflow 20 RNN lstm regression"
   ]
  },
  {
   "cell_type": "code",
   "execution_count": 2,
   "metadata": {
    "collapsed": true
   },
   "outputs": [],
   "source": [
    "import tensorflow as tf\n",
    "import numpy as np\n",
    "import matplotlib.pyplot as plt"
   ]
  },
  {
   "cell_type": "code",
   "execution_count": 1,
   "metadata": {},
   "outputs": [],
   "source": [
    "batch_start = 0\n",
    "time_"
   ]
  },
  {
   "cell_type": "code",
   "execution_count": null,
   "metadata": {
    "collapsed": true
   },
   "outputs": [],
   "source": [
    "def get_bach():\n",
    "    global BATCH_START, TIME_STEPS\n",
    "    xs = np.arange()"
   ]
  },
  {
   "cell_type": "code",
   "execution_count": null,
   "metadata": {
    "collapsed": true
   },
   "outputs": [],
   "source": []
  },
  {
   "cell_type": "code",
   "execution_count": null,
   "metadata": {
    "collapsed": true
   },
   "outputs": [],
   "source": []
  },
  {
   "cell_type": "code",
   "execution_count": null,
   "metadata": {
    "collapsed": true
   },
   "outputs": [],
   "source": []
  },
  {
   "cell_type": "code",
   "execution_count": null,
   "metadata": {
    "collapsed": true
   },
   "outputs": [],
   "source": []
  },
  {
   "cell_type": "code",
   "execution_count": null,
   "metadata": {
    "collapsed": true
   },
   "outputs": [],
   "source": []
  },
  {
   "cell_type": "code",
   "execution_count": null,
   "metadata": {
    "collapsed": true
   },
   "outputs": [],
   "source": []
  },
  {
   "cell_type": "code",
   "execution_count": null,
   "metadata": {
    "collapsed": true
   },
   "outputs": [],
   "source": []
  },
  {
   "cell_type": "code",
   "execution_count": null,
   "metadata": {
    "collapsed": true
   },
   "outputs": [],
   "source": []
  },
  {
   "cell_type": "code",
   "execution_count": null,
   "metadata": {
    "collapsed": true
   },
   "outputs": [],
   "source": []
  },
  {
   "cell_type": "code",
   "execution_count": null,
   "metadata": {
    "collapsed": true
   },
   "outputs": [],
   "source": []
  },
  {
   "cell_type": "code",
   "execution_count": null,
   "metadata": {
    "collapsed": true
   },
   "outputs": [],
   "source": []
  },
  {
   "cell_type": "code",
   "execution_count": null,
   "metadata": {
    "collapsed": true
   },
   "outputs": [],
   "source": []
  }
 ],
 "metadata": {
  "kernelspec": {
   "display_name": "Python 3",
   "language": "python",
   "name": "python3"
  },
  "language_info": {
   "codemirror_mode": {
    "name": "ipython",
    "version": 3
   },
   "file_extension": ".py",
   "mimetype": "text/x-python",
   "name": "python",
   "nbconvert_exporter": "python",
   "pygments_lexer": "ipython3",
   "version": "3.6.1"
  }
 },
 "nbformat": 4,
 "nbformat_minor": 2
}
