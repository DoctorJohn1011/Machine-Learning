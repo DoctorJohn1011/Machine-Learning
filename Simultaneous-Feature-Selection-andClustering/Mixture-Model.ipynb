{
 "cells": [
  {
   "cell_type": "code",
   "execution_count": 545,
   "metadata": {
    "collapsed": true
   },
   "outputs": [],
   "source": [
    "import scipy.io as sio\n",
    "import scipy.stats as stats\n",
    "import numpy as np\n",
    "from numpy.linalg import *\n",
    "import pandas as pd"
   ]
  },
  {
   "cell_type": "code",
   "execution_count": 546,
   "metadata": {
    "collapsed": true
   },
   "outputs": [],
   "source": [
    "def Single_Gaussian(x, mu, var):\n",
    "    x_mu = x-mu\n",
    "    b = x_mu**2 / var\n",
    "    N = np.exp(-b/2)/ np.sqrt(var*2*np.pi)\n",
    "    return N"
   ]
  },
  {
   "cell_type": "code",
   "execution_count": 547,
   "metadata": {
    "collapsed": true
   },
   "outputs": [],
   "source": [
    "def E_step(data , m , k , d , model):\n",
    "    a = np.zeros((m,k,d))\n",
    "    b = np.zeros((m,k,d))\n",
    "    for j in range(k):\n",
    "        a[:,j,:] = model['rho'] * Single_Gaussian(data,model['theta_mu'][j,:],model['theta_var'][j,:])\n",
    "        b[:,j,:] = (1-model['rho']) * Single_Gaussian(data , model['lam_mu'] , model['lam_var'])\n",
    "    c = a+b\n",
    "    \n",
    "    yu = c.prod(2)*model['alpha']\n",
    "    w = yu / yu.sum(1).reshape(m,1)\n",
    "    c[c==0] = 1\n",
    "    w[np.isnan(w)] = 1\n",
    "\n",
    "    u = np.zeros((m,k,d))\n",
    "    v = np.zeros((m,k,d))\n",
    "    for j in range(k):\n",
    "        u[:,j,:] = (a[:,j,:]/c[:,j,:]) * w[:,j].reshape(m,1)\n",
    "        v[:,j,:] = -u[:,j,:] + w[:,j].reshape(m,1)\n",
    "    return w,u,v"
   ]
  },
  {
   "cell_type": "code",
   "execution_count": 548,
   "metadata": {},
   "outputs": [],
   "source": [
    "def M_step(data, w, u, v, m, k, d ):\n",
    "    model = {}\n",
    "    #alpha = w.sum(0)/m\n",
    "    yu = np.maximum(w.sum(0)-d,0)\n",
    "    alpha = yu / yu.sum()\n",
    "\n",
    "    #rho = u.sum(1).sum(0)/m\n",
    "    rho = (np.maximum(u.sum(1).sum(0)-k,0)) / (np.maximum(u.sum(1).sum(0)-k,0) + np.maximum(v.sum(1).sum(0)-1,0))\n",
    "\n",
    "    theta_mu = np.zeros((k,d))\n",
    "    theta_var = np.zeros((k,d))\n",
    "    lam_mu = np.zeros(d)\n",
    "    lam_var = np.zeros(d)\n",
    "    \n",
    "    for l in range(d):\n",
    "        for j in range(k):\n",
    "            if (u[:,j,l].sum()==0):\n",
    "                alpha[j]=0\n",
    "            theta_mu[j,l] = np.dot(u[:,j,l].T , data[:,l])/u[:,j,l].sum()\n",
    "            theta_var[j,l] = np.dot(u[:,j,l].T,((data[:,l]-theta_mu[j,l])**2))/u[:,j,l].sum()\n",
    "    theta_var[theta_var==0] = 0.0001\n",
    "    \n",
    "    \n",
    "    for l in range(d):\n",
    "        e = 0\n",
    "        for i in range(m):\n",
    "            e = e + v[i,:,l].sum() * data[i,l]\n",
    "        f = v[:,:,l]\n",
    "        lam_mu[l] = e/ f.sum()\n",
    "        if(f.sum()==0):\n",
    "            lam_mu[l] = (e+0.0001)/(f.sum()+0.0001)\n",
    "            rho[l] = rho[l]*0.9\n",
    "    \n",
    "    for l in range(d):\n",
    "        e = 0\n",
    "        for i in range(m):\n",
    "            e = e + v[i,:,l].sum() * ((data[i,l]-lam_mu[l])**2)\n",
    "        f = v[:,:,l]\n",
    "        lam_var[l] = e/ f.sum()\n",
    "        if(f.sum()==0 or e==0):\n",
    "            lam_var[l] = (e+0.0001)/(f.sum()+0.0001)\n",
    "            rho[l] = rho[l]*0.9\n",
    "    \n",
    "    #theta_mu = (u*data.reshape(m,1,d)).sum(0)/u.sum(0)\n",
    "    #theta_var = np.zeros((k,d))\n",
    "    #for j in range(k):\n",
    "    #    theta_var[j,:] = (u[:,j,:] * ((data-theta_mu[j:j+1,:])**2)).sum(0)/u[:,j,:].sum(0)\n",
    "    #    \n",
    "    #theta_var[theta_var==0] = 0.0001\n",
    "    #yu = v.sum(1).sum(0)\n",
    "    #rho[yu==0] = rho[yu==0]*0.9\n",
    "    #yu[yu==0] = 0.001\n",
    "    #lam_mu = (v.sum(1)*data).sum(0)/yu\n",
    "    #lam_var = (v.sum(1) * ((data-lam_mu)**2)).sum(0)/yu\n",
    "    \n",
    "    model['rho'] = rho\n",
    "    model['alpha'] = alpha\n",
    "    model['theta_mu'] = theta_mu\n",
    "    model['theta_var'] = theta_var\n",
    "    model['lam_mu'] = lam_mu\n",
    "    model['lam_var'] = lam_var\n",
    "    \n",
    "    return model"
   ]
  },
  {
   "cell_type": "code",
   "execution_count": 549,
   "metadata": {
    "collapsed": true
   },
   "outputs": [],
   "source": [
    "def move_superfluous(model, k, d , data):\n",
    "    #move the superfluous feature and component\n",
    "    rho = model['rho']\n",
    "    alpha = model['alpha']\n",
    "    theta_mu = model['theta_mu']\n",
    "    theta_var = model['theta_var']\n",
    "    lam_mu = model['lam_mu']\n",
    "    lam_var = model['lam_var']\n",
    "    \n",
    "    alpha0 = alpha<0.001\n",
    "    if alpha0.sum()!=0:\n",
    "        theta_mu = theta_mu[~alpha0,:]\n",
    "        theta_var = theta_var[~alpha0,:]\n",
    "        alpha = alpha[~alpha0]\n",
    "        k = k-alpha0.sum()\n",
    "\n",
    "    rho1 = rho==1\n",
    "    if rho1.sum()!=0:\n",
    "        lam_mu[rho1] = lam_mu[rho1]*0.9\n",
    "        lam_var[rho1] = lam_var[rho1]*0.9\n",
    "        rho[rho1] = 0.9\n",
    "\n",
    "    rho0 = rho<0.001\n",
    "    if rho0.sum()!=0:\n",
    "        lam_mu = lam_mu[~rho0]\n",
    "        lam_var = lam_var[~rho0]\n",
    "        theta_mu = theta_mu[:,~rho0]\n",
    "        theta_var = theta_var[:,~rho0]\n",
    "        data = data[:,~rho0]\n",
    "        rho = rho[~rho0]\n",
    "        d = d-(rho0).sum()\n",
    "    \n",
    "    model['rho'] = rho\n",
    "    model['alpha'] = alpha\n",
    "    model['theta_mu'] = theta_mu\n",
    "    model['theta_var'] = theta_var\n",
    "    model['lam_mu'] = lam_mu\n",
    "    model['lam_var'] = lam_var\n",
    "    return model,k,d,data"
   ]
  },
  {
   "cell_type": "code",
   "execution_count": 550,
   "metadata": {},
   "outputs": [],
   "source": [
    "def MML(data, m, d, k, model):\n",
    "    # compute the cost\n",
    "    a = np.zeros((m,k,d))\n",
    "    b = np.zeros((m,k,d))\n",
    "    for j in range(k):\n",
    "        a[:,j,:] = model['rho'] * Single_Gaussian(data,model['theta_mu'][j,:],model['theta_var'][j,:])\n",
    "        b[:,j,:] = (1-model['rho']) * Single_Gaussian(data , model['lam_mu'] , model['lam_var'])\n",
    "    c = a+b\n",
    "    c[c>1] = 1\n",
    "    yu = c.prod(2)*model['alpha']\n",
    "    yu = yu.sum()\n",
    "    yu = np.log(yu)\n",
    "    #cost = -yu/m\n",
    "    cost = -yu + d*np.log(alpha).sum() + np.log(1-rho).sum() + k*np.log(rho).sum()\n",
    "    return cost"
   ]
  },
  {
   "cell_type": "code",
   "execution_count": 551,
   "metadata": {},
   "outputs": [
    {
     "name": "stdout",
     "output_type": "stream",
     "text": [
      "[[  0.           1.           6.           7.        ]\n",
      " [  3.           9.           4.          10.        ]\n",
      " [ -0.31232848   0.33928471  -0.15590853  -0.50178967]\n",
      " [  0.23556889  -1.76360526  -1.09586204  -1.08776574]\n",
      " [ -0.30517005  -0.47374837  -0.20059454   0.35519677]\n",
      " [  0.68951772   0.41058968  -0.56497844   0.59939069]\n",
      " [ -0.16293631   1.6002145    0.6816272    0.0148801 ]\n",
      " [ -0.08777963  -0.98211784   0.12169048  -1.13743729]\n",
      " [  0.34900258  -1.85851316  -1.16718189   1.42489683]\n",
      " [  1.49656536   1.28993206  -1.81174527  -1.49830721]]\n"
     ]
    }
   ],
   "source": [
    "np.random.seed(15)\n",
    "key = np.array([[0.0,1.0,6.0,7.0],[3.0,9.0,4.0,10.0]])\n",
    "label = 4\n",
    "key = np.row_stack( (key,np.random.normal(size=(8,4))) )\n",
    "print(key)\n",
    "std = np.array([1,1,1,1])\n",
    "data =  key[:,0:1] + np.random.normal(size=(10,200))*std[0]\n",
    "for i in range(1,label):\n",
    "    data = np.column_stack( (data , key[:,i:i+1] + np.random.normal(size=(10,200))*std[i] ) )\n",
    "data = data.T"
   ]
  },
  {
   "cell_type": "code",
   "execution_count": 552,
   "metadata": {
    "collapsed": true
   },
   "outputs": [],
   "source": [
    "[m,d] = data.shape\n",
    "k = 100\n",
    "kmin = 4\n",
    "cost =  0\n",
    "oldcost = 10000\n",
    "\n",
    "model = {}\n",
    "#theta_mu = np.random.normal(size=(k,d))\n",
    "kk = np.arange(m)\n",
    "np.random.shuffle(kk)\n",
    "model['theta_mu'] = data[kk[:k],:]\n",
    "model['theta_var'] = np.random.uniform(size=(k,d))\n",
    "model['lam_mu'] = data.mean(0)\n",
    "model['lam_var'] = np.random.uniform(size=(d,1)).reshape(d)\n",
    "model['rho'] = np.ones((1,d))*0.5\n",
    "model['alpha'] = np.random.uniform(size=(1,k))\n",
    "model['alpha'] = model['alpha']/model['alpha'].sum()"
   ]
  },
  {
   "cell_type": "code",
   "execution_count": 553,
   "metadata": {},
   "outputs": [
    {
     "data": {
      "text/plain": [
       "array([[  1.32293382e-02,   1.57302193e-02,   1.29829359e-02,\n",
       "          7.46900940e-03,   1.21090666e-02,   1.18229176e-02,\n",
       "          3.60281188e-03,   1.41005905e-02,   1.50132651e-02,\n",
       "          4.29517078e-03,   1.93570632e-02,   9.27868559e-03,\n",
       "          1.28042258e-02,   1.36269496e-02,   1.71201415e-02,\n",
       "          1.93832436e-02,   1.14521692e-02,   1.45683003e-02,\n",
       "          1.07093719e-03,   7.37117536e-04,   1.94716846e-02,\n",
       "          1.59483116e-03,   1.59149143e-02,   1.13155499e-02,\n",
       "          1.89235611e-02,   1.65456874e-02,   1.15897516e-02,\n",
       "          1.73443063e-03,   1.41604559e-02,   6.47767022e-03,\n",
       "          4.51776637e-05,   3.12432214e-04,   7.03616052e-03,\n",
       "          1.57938522e-02,   1.86220235e-02,   4.17944627e-03,\n",
       "          4.81234341e-03,   6.17463216e-03,   8.67225359e-04,\n",
       "          3.16596023e-03,   7.84788288e-04,   4.36818794e-03,\n",
       "          1.14161082e-02,   1.51134014e-02,   1.73596436e-02,\n",
       "          1.71443554e-02,   8.76785431e-03,   6.50454506e-03,\n",
       "          1.04692401e-02,   1.26818888e-02,   5.75168273e-03,\n",
       "          1.91987087e-02,   2.07705608e-03,   1.25077648e-02,\n",
       "          1.10509072e-02,   2.09519119e-03,   1.46862309e-02,\n",
       "          1.29510810e-02,   3.29155318e-03,   1.38169744e-02,\n",
       "          9.86461149e-03,   7.46645646e-03,   5.43736015e-03,\n",
       "          1.75857390e-02,   7.22806943e-03,   1.56534622e-02,\n",
       "          1.47476588e-02,   1.40968191e-02,   1.13262560e-02,\n",
       "          2.07839468e-03,   6.28508947e-04,   2.37031299e-03,\n",
       "          1.55755456e-03,   1.56609646e-02,   1.11830578e-02,\n",
       "          5.21250346e-03,   1.23465538e-02,   3.83935681e-03,\n",
       "          5.92093251e-03,   7.04306960e-03,   1.56514492e-03,\n",
       "          3.93495069e-03,   1.70194387e-02,   2.68916339e-03,\n",
       "          1.24488093e-02,   2.99154165e-03,   1.99870900e-02,\n",
       "          1.37995407e-02,   4.07513447e-03,   1.80706275e-02,\n",
       "          1.59059557e-02,   1.82170670e-02,   1.50578379e-02,\n",
       "          3.56915603e-03,   7.56981529e-03,   1.50783406e-04,\n",
       "          1.83340921e-02,   1.73328063e-02,   1.38103461e-02,\n",
       "          1.16939442e-02]])"
      ]
     },
     "execution_count": 553,
     "metadata": {},
     "output_type": "execute_result"
    }
   ],
   "source": [
    "model['alpha']"
   ]
  },
  {
   "cell_type": "code",
   "execution_count": 554,
   "metadata": {
    "scrolled": false
   },
   "outputs": [
    {
     "name": "stdout",
     "output_type": "stream",
     "text": [
      "100\n",
      "27\n",
      "19\n",
      "18\n",
      "15\n",
      "14\n",
      "14\n",
      "12\n",
      "11\n",
      "11\n",
      "10\n",
      "10\n",
      "10\n",
      "10\n",
      "9\n",
      "9\n",
      "8\n",
      "8\n",
      "8\n",
      "7\n",
      "7\n",
      "7\n",
      "7\n",
      "7\n",
      "7\n",
      "7\n",
      "7\n",
      "7\n",
      "7\n",
      "7\n",
      "7\n",
      "7\n",
      "7\n",
      "6\n",
      "6\n",
      "6\n",
      "6\n",
      "6\n",
      "6\n",
      "6\n",
      "6\n",
      "6\n",
      "6\n",
      "6\n",
      "6\n",
      "5\n",
      "5\n",
      "4\n",
      "4\n",
      "4\n",
      "4\n",
      "4\n",
      "4\n",
      "4\n"
     ]
    }
   ],
   "source": [
    "savemodel = []\n",
    "while(k>kmin):\n",
    "    print(k)\n",
    "    step = 0\n",
    "    oldcost = 10000\n",
    "    while( (abs(cost-oldcost)>0.001) and (step<100) ):\n",
    "        step = step+1\n",
    "        [ w, u, v ] = E_step(data , m , k , d , model)\n",
    "        model = M_step(data, w, u, v, m, k, d)\n",
    "\n",
    "        [model,k,d,data] = move_superfluous(model, k, d,data)\n",
    "        savemodel.append(model)\n",
    "        print(k)\n",
    "        if(k<kmin):\n",
    "            model = savemodel[-2]\n",
    "            k = model['alpha'].shape[0]\n",
    "            break\n",
    "        oldcost = cost\n",
    "        cost = MML(data, m, d, k, model)\n",
    "    \n",
    "    if( (step==100) and (abs(cost-oldcost)>0.001) and (k>kmin)):\n",
    "        alpha0 = model['alpha'].argmin()\n",
    "        model['theta_mu'] = np.delete(model['theta_mu'], alpha0 , axis=0)\n",
    "        model['theta_var'] = np.delete(model['theta_var'], alpha0 , axis=0)\n",
    "        model['alpha'] = np.delete(model['alpha'], alpha0 , axis=0)\n",
    "        savemodel.append(model)\n",
    "        k = k-1\n",
    "        \n",
    "        "
   ]
  },
  {
   "cell_type": "code",
   "execution_count": 555,
   "metadata": {},
   "outputs": [
    {
     "data": {
      "text/plain": [
       "array([[  6.95561148,  10.06410052,  -0.89899912,  -1.16984461,\n",
       "          1.27598255,   1.00800947,  -0.29394819,  -1.91123452,\n",
       "          1.53421212,  -1.61575547],\n",
       "       [  5.97391485,   3.94663403,  -0.05515349,  -0.86910748,\n",
       "         -1.0799806 ,  -1.06697468,   0.80827338,   0.49547804,\n",
       "         -1.19710674,  -2.02364428],\n",
       "       [  0.97192785,   9.04253114,   1.19355573,  -2.16332948,\n",
       "         -1.37968251,   0.38889422,   1.95428889,  -1.7296835 ,\n",
       "         -1.90618183,   1.31233134],\n",
       "       [ -0.01069196,   2.95255168,  -0.86325302,   0.52070422,\n",
       "         -1.3011888 ,   1.22817718,  -0.49420839,  -0.15282419,\n",
       "          0.31796144,   1.61759984]])"
      ]
     },
     "execution_count": 555,
     "metadata": {},
     "output_type": "execute_result"
    }
   ],
   "source": [
    "model['theta_mu']"
   ]
  },
  {
   "cell_type": "code",
   "execution_count": 556,
   "metadata": {},
   "outputs": [
    {
     "data": {
      "text/plain": [
       "array([[  0.        ,   1.        ,   6.        ,   7.        ],\n",
       "       [  3.        ,   9.        ,   4.        ,  10.        ],\n",
       "       [ -0.31232848,   0.33928471,  -0.15590853,  -0.50178967],\n",
       "       [  0.23556889,  -1.76360526,  -1.09586204,  -1.08776574],\n",
       "       [ -0.30517005,  -0.47374837,  -0.20059454,   0.35519677],\n",
       "       [  0.68951772,   0.41058968,  -0.56497844,   0.59939069],\n",
       "       [ -0.16293631,   1.6002145 ,   0.6816272 ,   0.0148801 ],\n",
       "       [ -0.08777963,  -0.98211784,   0.12169048,  -1.13743729],\n",
       "       [  0.34900258,  -1.85851316,  -1.16718189,   1.42489683],\n",
       "       [  1.49656536,   1.28993206,  -1.81174527,  -1.49830721]])"
      ]
     },
     "execution_count": 556,
     "metadata": {},
     "output_type": "execute_result"
    }
   ],
   "source": [
    "key"
   ]
  },
  {
   "cell_type": "code",
   "execution_count": 53,
   "metadata": {},
   "outputs": [],
   "source": [
    "a = np.zeros((m,k,d))\n",
    "b = np.zeros((m,k,d))\n",
    "for j in range(k):\n",
    "    for l in range(d):\n",
    "        a[:,j,l] = rho[l] * stats.norm.pdf(data[:,l],theta_mu[j,l],theta_var[j,l])\n",
    "        b[:,j,l] = (1-rho[l]) * stats.norm.pdf(data[:,l] , lam_mu[l] , lam_var[l])\n",
    "c = a+b\n",
    "c[c>0] = 1\n",
    "yu = c.prod(2)*alpha\n",
    "yu = yu.sum(1).sum(0)\n",
    "yu = np.log(yu)\n",
    "#cost = -yu/m\n",
    "cost = -yu + d*np.log(alpha).sum() + np.log(1-rho).sum() + k*np.log(rho).sum()"
   ]
  },
  {
   "cell_type": "code",
   "execution_count": 54,
   "metadata": {},
   "outputs": [
    {
     "data": {
      "text/plain": [
       "-102.26131709656298"
      ]
     },
     "execution_count": 54,
     "metadata": {},
     "output_type": "execute_result"
    }
   ],
   "source": [
    "np.log(alpha).sum()"
   ]
  },
  {
   "cell_type": "code",
   "execution_count": 48,
   "metadata": {},
   "outputs": [
    {
     "data": {
      "text/plain": [
       "array([3, 9])"
      ]
     },
     "execution_count": 48,
     "metadata": {},
     "output_type": "execute_result"
    }
   ],
   "source": [
    "np.maximum([1,9],[3,6])"
   ]
  },
  {
   "cell_type": "code",
   "execution_count": null,
   "metadata": {
    "collapsed": true
   },
   "outputs": [],
   "source": []
  },
  {
   "cell_type": "code",
   "execution_count": 360,
   "metadata": {},
   "outputs": [
    {
     "data": {
      "text/plain": [
       "63"
      ]
     },
     "execution_count": 360,
     "metadata": {},
     "output_type": "execute_result"
    }
   ],
   "source": [
    "a = np.array([[[1,2],[3,4],[4,8]],[[5,6],[7,8],[8,7]]])\n",
    "a.sum()"
   ]
  },
  {
   "cell_type": "code",
   "execution_count": 135,
   "metadata": {},
   "outputs": [
    {
     "name": "stdout",
     "output_type": "stream",
     "text": [
      "None\n"
     ]
    }
   ],
   "source": [
    "theta_var = np.random.uniform(size=(k,d))\n",
    "a = np.random.shuffle(np.arange(10))\n",
    "print(a)"
   ]
  },
  {
   "cell_type": "code",
   "execution_count": 134,
   "metadata": {},
   "outputs": [
    {
     "data": {
      "text/plain": [
       "array([0, 1, 2, 3, 4, 5, 6, 7, 8, 9])"
      ]
     },
     "execution_count": 134,
     "metadata": {},
     "output_type": "execute_result"
    }
   ],
   "source": [
    "arr = np.arange(10)\n",
    "np.random.shuffle(np.arange(10))\n",
    "arr"
   ]
  },
  {
   "cell_type": "code",
   "execution_count": 137,
   "metadata": {},
   "outputs": [
    {
     "data": {
      "text/plain": [
       "(100, 10)"
      ]
     },
     "execution_count": 137,
     "metadata": {},
     "output_type": "execute_result"
    }
   ],
   "source": [
    "theta_mu.shape"
   ]
  },
  {
   "cell_type": "code",
   "execution_count": null,
   "metadata": {
    "collapsed": true
   },
   "outputs": [],
   "source": []
  }
 ],
 "metadata": {
  "kernelspec": {
   "display_name": "Python 3",
   "language": "python",
   "name": "python3"
  },
  "language_info": {
   "codemirror_mode": {
    "name": "ipython",
    "version": 3
   },
   "file_extension": ".py",
   "mimetype": "text/x-python",
   "name": "python",
   "nbconvert_exporter": "python",
   "pygments_lexer": "ipython3",
   "version": "3.6.1"
  }
 },
 "nbformat": 4,
 "nbformat_minor": 2
}
