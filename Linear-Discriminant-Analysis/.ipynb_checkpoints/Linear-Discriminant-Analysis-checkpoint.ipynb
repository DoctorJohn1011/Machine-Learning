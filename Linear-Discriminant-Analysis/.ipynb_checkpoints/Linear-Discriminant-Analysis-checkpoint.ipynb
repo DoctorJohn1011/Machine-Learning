{
 "cells": [
  {
   "cell_type": "code",
   "execution_count": 167,
   "metadata": {
    "collapsed": true
   },
   "outputs": [],
   "source": [
    "import scipy.io as sio  \n",
    "import matplotlib.pyplot as plt  \n",
    "import numpy as np \n",
    "from numpy.linalg import *\n",
    "import pandas as pd"
   ]
  },
  {
   "cell_type": "code",
   "execution_count": 168,
   "metadata": {
    "collapsed": true
   },
   "outputs": [],
   "source": [
    "def LDA_tr( x ):\n",
    "    num = np.zeros(len(x))\n",
    "    m = np.zeros( ( len(x) , np.shape(x[0])[1] ) )\n",
    "    S = np.zeros( (np.shape(x[0])[1]  , np.shape(x[0])[1]  , len(x)) )\n",
    "    for i in range(len(x)):\n",
    "        m[i,:] = x[i].mean(0).T\n",
    "        num[i] = np.shape(x[i])[0]\n",
    "        k = x[i] - m[i,:]\n",
    "        S[:,:,i] = np.dot( k.T,k )\n",
    "    \n",
    "    Sw = S.mean(2)\n",
    "    M = np.dot( num , m )/num.sum()\n",
    "    Sb = np.dot(num*(m-M).T , (m-M))\n",
    "    w = np.dot( inv( Sw + 0.1*np.eye(np.shape(Sw)[1]) ),Sb )\n",
    "    [a,b] = eig(w)\n",
    "    w = b[:,:6].real\n",
    "    flag = np.dot(m , w)\n",
    "    return w,flag\n"
   ]
  },
  {
   "cell_type": "code",
   "execution_count": 169,
   "metadata": {
    "collapsed": true
   },
   "outputs": [],
   "source": [
    "def LDA_te( x , y , w , flag ):\n",
    "    t = np.dot(test_x , w)\n",
    "    dis = np.zeros((np.shape(test_x)[0],len(train_x)))\n",
    "    for i in range(len(train_x)):\n",
    "        k = t - flag[i,:]\n",
    "        dis[:,i] = np.diag(np.dot(k,k.T))\n",
    "    t = dis.argmin(1)+1\n",
    "    acc = np.equal(t,test_y).mean() * 100\n",
    "    text = \"The Linear Regression's accuracy is %.2f%%.\" %(acc)\n",
    "    print(text)\n",
    "    obj = pd.Series( [MSE,MAE,SD],index=['MSE','MAE','SD'] )\n",
    "    print(obj)\n"
   ]
  },
  {
   "cell_type": "code",
   "execution_count": 170,
   "metadata": {},
   "outputs": [],
   "source": [
    "data_path = \"E://yuwoliang/three set/SpectralClassification/No removal of continuous spectrum/\"\n",
    "\n",
    "data=sio.loadmat( data_path + \"SpectralClassificationTrain.mat\" ) \n",
    "train_x = []\n",
    "train_y = data['train_y'][:,0]\n",
    "flag = np.unique(train_y)\n",
    "for index in flag:\n",
    "    train_x.append(data['train_x'][train_y==index,:])\n",
    "\n",
    "data=sio.loadmat( data_path + \"SpectralClassificationTest.mat\" ) \n",
    "test_x = data['test_x']\n",
    "test_y = data['test_y'][:,0]\n",
    "\n",
    "del data"
   ]
  },
  {
   "cell_type": "code",
   "execution_count": 172,
   "metadata": {},
   "outputs": [],
   "source": [
    "[w , flag ] = LDA_tr( train_x )\n",
    "LDA_te( test_x , test_y , w , flag )"
   ]
  }
 ],
 "metadata": {
  "kernelspec": {
   "display_name": "Python 3",
   "language": "python",
   "name": "python3"
  },
  "language_info": {
   "codemirror_mode": {
    "name": "ipython",
    "version": 3
   },
   "file_extension": ".py",
   "mimetype": "text/x-python",
   "name": "python",
   "nbconvert_exporter": "python",
   "pygments_lexer": "ipython3",
   "version": "3.6.1"
  }
 },
 "nbformat": 4,
 "nbformat_minor": 2
}
