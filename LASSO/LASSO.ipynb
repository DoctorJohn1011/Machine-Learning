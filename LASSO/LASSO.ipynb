{
 "cells": [
  {
   "cell_type": "code",
   "execution_count": 24,
   "metadata": {
    "collapsed": true
   },
   "outputs": [],
   "source": [
    "import scipy.io as sio\n",
    "import matplotlib.pyplot as plt\n",
    "import numpy as np \n",
    "from numpy.linalg import *\n",
    "import pandas as pd"
   ]
  },
  {
   "cell_type": "code",
   "execution_count": 25,
   "metadata": {
    "collapsed": true
   },
   "outputs": [],
   "source": [
    "def initialize(d, k):\n",
    "    section = np.sqrt(6/(d+k))\n",
    "    #return np.random.normal(size=(d,k))\n",
    "    return np.zeros((d,k))\n",
    "    #return np.random.uniform(low = -section, high = section, size = (d,k) )"
   ]
  },
  {
   "cell_type": "code",
   "execution_count": 26,
   "metadata": {
    "collapsed": true
   },
   "outputs": [],
   "source": [
    "def zscore(x):\n",
    "    mu = x.mean(0)\n",
    "    sigma = np.maximum(x.std(0), 0.0001)\n",
    "    x = (x-mu)/sigma\n",
    "    return x, mu, sigma"
   ]
  },
  {
   "cell_type": "code",
   "execution_count": 27,
   "metadata": {
    "collapsed": true
   },
   "outputs": [],
   "source": [
    "def normalize(x, mu, sigma):\n",
    "    return (x-mu)/sigma"
   ]
  },
  {
   "cell_type": "code",
   "execution_count": 28,
   "metadata": {
    "collapsed": true
   },
   "outputs": [],
   "source": [
    "def f(y, x, w):\n",
    "    yu = y-np.dot(x,w)\n",
    "    value = np.dot( yu.T , yu)\n",
    "    return value/2"
   ]
  },
  {
   "cell_type": "code",
   "execution_count": 29,
   "metadata": {
    "collapsed": true
   },
   "outputs": [],
   "source": [
    "def detlaf(y, x, w):\n",
    "    return np.dot(x.T , ( np.dot(x,w) - y ))"
   ]
  },
  {
   "cell_type": "code",
   "execution_count": 30,
   "metadata": {
    "collapsed": true
   },
   "outputs": [],
   "source": [
    "def cost_function(y, x, w, lam):\n",
    "    yu = np.dot(x,w) - y\n",
    "    cost = np.dot( yu.T , yu)/2 + lam*np.abs(w).sum()\n",
    "    return cost"
   ]
  },
  {
   "cell_type": "code",
   "execution_count": 31,
   "metadata": {
    "collapsed": true
   },
   "outputs": [],
   "source": [
    "def PGD(f, y, x, lam=50, stepmax=300):\n",
    "    x = np.column_stack(( np.ones((x.shape[0],1)) , x ))\n",
    "    [m,d] = x.shape\n",
    "    k = y.shape[1]\n",
    "    \n",
    "    cost = 0\n",
    "    oldcost = 1000\n",
    "    step = 0\n",
    "    eps = 0.0001\n",
    "    \n",
    "    w = initialize(d, k)\n",
    "    while(np.abs(cost-oldcost)>eps and step<stepmax):\n",
    "        w_old = w\n",
    "        step = step + 1\n",
    "        L = 1\n",
    "        while(1):\n",
    "            z = w_old - detlaf(y,x,w_old)/L\n",
    "            w = np.sign(z) * np.maximum(np.abs(z)-lam/L , 0)\n",
    "            detlaw = w - w_old\n",
    "            yu = f(y, x, w_old) + np.dot( detlaf(y,x,w_old).T , detlaw ) + L/2 * np.dot(detlaw.T , detlaw)\n",
    "            if (f(y, x, w) < yu):\n",
    "                break\n",
    "            L = 2*L\n",
    "        oldcost = cost\n",
    "        cost = cost_function(y, x, w, lam)\n",
    "    return w\n",
    "    "
   ]
  },
  {
   "cell_type": "code",
   "execution_count": 32,
   "metadata": {
    "collapsed": true
   },
   "outputs": [],
   "source": [
    "def LASSO_test(y, x, w):\n",
    "    x = np.column_stack(( np.ones((x.shape[0],1)) , x ))\n",
    "    t = np.dot( x,w )\n",
    "    er = t - y\n",
    "    MSE =  ( er**2 ).mean()\n",
    "    MAE = abs( er ).mean()\n",
    "    SD = np.sqrt((( er-er.mean())**2).mean())\n",
    "    obj = pd.Series( [MSE,MAE,SD],index=['MSE','MAE','SD'] )\n",
    "    print(obj)"
   ]
  },
  {
   "cell_type": "code",
   "execution_count": 33,
   "metadata": {
    "collapsed": true
   },
   "outputs": [],
   "source": [
    "data_path = \"E://yuwoliang/three set/StellarSLOANDR7/\"\n",
    "\n",
    "data=sio.loadmat( data_path + \"StellarSLOANDR7Train.mat\" ) \n",
    "train_x = data['train_x']\n",
    "train_y = data['train_y'][:,1:2]\n",
    "\n",
    "del data\n",
    "[train_x,mu,sigma] = zscore(train_x)"
   ]
  },
  {
   "cell_type": "code",
   "execution_count": 34,
   "metadata": {
    "scrolled": false
   },
   "outputs": [],
   "source": [
    "w = PGD(f, train_y, train_x)\n",
    "del train_x, train_y"
   ]
  },
  {
   "cell_type": "code",
   "execution_count": 35,
   "metadata": {},
   "outputs": [
    {
     "name": "stdout",
     "output_type": "stream",
     "text": [
      "MSE    0.263530\n",
      "MAE    0.405574\n",
      "SD     0.508825\n",
      "dtype: float64\n"
     ]
    }
   ],
   "source": [
    "data=sio.loadmat( data_path + \"StellarSLOANDR7Test.mat\" ) \n",
    "test_x = data['test_x']\n",
    "test_y = data['test_y'][:,1:2]\n",
    "del data\n",
    "\n",
    "test_x = normalize(test_x, mu, sigma)\n",
    "LASSO_test(test_y, test_x, w)"
   ]
  },
  {
   "cell_type": "code",
   "execution_count": null,
   "metadata": {
    "collapsed": true
   },
   "outputs": [],
   "source": []
  }
 ],
 "metadata": {
  "kernelspec": {
   "display_name": "Python 3",
   "language": "python",
   "name": "python3"
  },
  "language_info": {
   "codemirror_mode": {
    "name": "ipython",
    "version": 3
   },
   "file_extension": ".py",
   "mimetype": "text/x-python",
   "name": "python",
   "nbconvert_exporter": "python",
   "pygments_lexer": "ipython3",
   "version": "3.6.1"
  }
 },
 "nbformat": 4,
 "nbformat_minor": 2
}
