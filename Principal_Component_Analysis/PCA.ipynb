{
 "cells": [
  {
   "cell_type": "code",
   "execution_count": 32,
   "metadata": {
    "collapsed": true
   },
   "outputs": [],
   "source": [
    "import numpy as np\n",
    "from numpy.linalg import *\n",
    "import scipy.io as sio\n",
    "import matplotlib.pyplot as plt"
   ]
  },
  {
   "cell_type": "code",
   "execution_count": 75,
   "metadata": {},
   "outputs": [],
   "source": [
    "def PCA(x, dim=None, t=0.95):\n",
    "    M,D = x.shape\n",
    "    x = x - x.mean(0).reshape(1,-1)\n",
    "    cov = np.dot( x.T,x )\n",
    "    V,D = eig(cov)\n",
    "    V = V.real\n",
    "    D = D.real\n",
    "    if dim==None:\n",
    "        t = 0.95\n",
    "        dim = V.cumsum()/V.sum()\n",
    "        dim = np.nonzero(dim>t)[0][0]\n",
    "        print(dim)\n",
    "    w = D[:,:dim]\n",
    "    return w"
   ]
  },
  {
   "cell_type": "code",
   "execution_count": 76,
   "metadata": {
    "collapsed": true
   },
   "outputs": [],
   "source": [
    "data_path = \"E://yuwoliang/three set/SpectralClassification/No removal of continuous spectrum/\"\n",
    "\n",
    "data=sio.loadmat( data_path + \"SpectralClassificationTrain.mat\" ) \n",
    "train_x = data['train_x']\n",
    "train_y = data['train_y'][:,0]\n",
    "\n",
    "data=sio.loadmat( data_path + \"SpectralClassificationTest.mat\" ) \n",
    "test_x = data['test_x']\n",
    "test_y = data['test_y'][:,0]\n",
    "\n",
    "del data"
   ]
  },
  {
   "cell_type": "code",
   "execution_count": 78,
   "metadata": {
    "scrolled": false
   },
   "outputs": [],
   "source": [
    "w = PCA(train_x,dim=2)\n",
    "train_x = np.dot( train_x,w )"
   ]
  },
  {
   "cell_type": "code",
   "execution_count": 79,
   "metadata": {},
   "outputs": [
    {
     "data": {
      "image/png": "[encoded data removed]",
      "text/plain": [
       "<matplotlib.figure.Figure at 0x9084cc0>"
      ]
     },
     "metadata": {},
     "output_type": "display_data"
    }
   ],
   "source": [
    "fig = plt.figure()\n",
    "ax = fig.add_subplot(1,1,1)\n",
    "ax.scatter( train_x[:,0].reshape(-1),train_x[:,1].reshape(-1) )\n",
    "plt.show()"
   ]
  },
  {
   "cell_type": "code",
   "execution_count": null,
   "metadata": {
    "collapsed": true
   },
   "outputs": [],
   "source": []
  }
 ],
 "metadata": {
  "kernelspec": {
   "display_name": "Python 3",
   "language": "python",
   "name": "python3"
  },
  "language_info": {
   "codemirror_mode": {
    "name": "ipython",
    "version": 3
   },
   "file_extension": ".py",
   "mimetype": "text/x-python",
   "name": "python",
   "nbconvert_exporter": "python",
   "pygments_lexer": "ipython3",
   "version": "3.6.1"
  }
 },
 "nbformat": 4,
 "nbformat_minor": 2
}
